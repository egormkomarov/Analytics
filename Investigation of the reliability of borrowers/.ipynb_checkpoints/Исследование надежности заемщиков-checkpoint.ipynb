{
 "cells": [
  {
   "cell_type": "markdown",
   "id": "8f4084b7",
   "metadata": {
    "toc": true
   },
   "source": [
    "<h1>Исследование надежности заемщиков<span class=\"tocSkip\"></span></h1>\n",
    "<div class=\"toc\"><ul class=\"toc-item\"><li><span><a href=\"#Анализ-исходных-данных\" data-toc-modified-id=\"Анализ-исходных-данных-1\"><span class=\"toc-item-num\">1&nbsp;&nbsp;</span>Анализ исходных данных</a></span><ul class=\"toc-item\"><li><span><a href=\"#Описание-данных\" data-toc-modified-id=\"Описание-данных-1.1\"><span class=\"toc-item-num\">1.1&nbsp;&nbsp;</span>Описание данных</a></span></li><li><span><a href=\"#Краткий-анализ-данных-датасета\" data-toc-modified-id=\"Краткий-анализ-данных-датасета-1.2\"><span class=\"toc-item-num\">1.2&nbsp;&nbsp;</span>Краткий анализ данных датасета</a></span></li></ul></li><li><span><a href=\"#Поиск-артефактов\" data-toc-modified-id=\"Поиск-артефактов-2\"><span class=\"toc-item-num\">2&nbsp;&nbsp;</span>Поиск артефактов</a></span></li><li><span><a href=\"#Заполнение-пропусков-в-данных\" data-toc-modified-id=\"Заполнение-пропусков-в-данных-3\"><span class=\"toc-item-num\">3&nbsp;&nbsp;</span>Заполнение пропусков в данных</a></span></li><li><span><a href=\"#Изменение-типов-данных\" data-toc-modified-id=\"Изменение-типов-данных-4\"><span class=\"toc-item-num\">4&nbsp;&nbsp;</span>Изменение типов данных</a></span></li><li><span><a href=\"#Удаление-дубликатов\" data-toc-modified-id=\"Удаление-дубликатов-5\"><span class=\"toc-item-num\">5&nbsp;&nbsp;</span>Удаление дубликатов</a></span><ul class=\"toc-item\"><li><span><a href=\"#Удаление-явных-дубликатов\" data-toc-modified-id=\"Удаление-явных-дубликатов-5.1\"><span class=\"toc-item-num\">5.1&nbsp;&nbsp;</span>Удаление явных дубликатов</a></span></li><li><span><a href=\"#Удаление-невных-дубликатов\" data-toc-modified-id=\"Удаление-невных-дубликатов-5.2\"><span class=\"toc-item-num\">5.2&nbsp;&nbsp;</span>Удаление невных дубликатов</a></span></li></ul></li><li><span><a href=\"#Категоризация-целей-кредита\" data-toc-modified-id=\"Категоризация-целей-кредита-6\"><span class=\"toc-item-num\">6&nbsp;&nbsp;</span>Категоризация целей кредита</a></span></li><li><span><a href=\"#Категоризация-дохода\" data-toc-modified-id=\"Категоризация-дохода-7\"><span class=\"toc-item-num\">7&nbsp;&nbsp;</span>Категоризация дохода</a></span></li><li><span><a href=\"#Формирование-дополнительных-датафреймов-словарей,-декомпозиция-исходного-датафрейма.\" data-toc-modified-id=\"Формирование-дополнительных-датафреймов-словарей,-декомпозиция-исходного-датафрейма.-8\"><span class=\"toc-item-num\">8&nbsp;&nbsp;</span>Формирование дополнительных датафреймов словарей, декомпозиция исходного датафрейма.</a></span><ul class=\"toc-item\"><li><span><a href=\"#Словарь-по-типу-образования\" data-toc-modified-id=\"Словарь-по-типу-образования-8.1\"><span class=\"toc-item-num\">8.1&nbsp;&nbsp;</span>Словарь по типу образования</a></span></li><li><span><a href=\"#Словарь-по-виду-семейного-положения\" data-toc-modified-id=\"Словарь-по-виду-семейного-положения-8.2\"><span class=\"toc-item-num\">8.2&nbsp;&nbsp;</span>Словарь по виду семейного положения</a></span></li></ul></li><li><span><a href=\"#Ответы-на-вопросы\" data-toc-modified-id=\"Ответы-на-вопросы-9\"><span class=\"toc-item-num\">9&nbsp;&nbsp;</span>Ответы на вопросы</a></span><ul class=\"toc-item\"><li><span><a href=\"#Есть-ли-зависимость-между-количеством-детей-и-возвратом-кредита-в-срок?\" data-toc-modified-id=\"Есть-ли-зависимость-между-количеством-детей-и-возвратом-кредита-в-срок?-9.1\"><span class=\"toc-item-num\">9.1&nbsp;&nbsp;</span>Есть ли зависимость между количеством детей и возвратом кредита в срок?</a></span></li><li><span><a href=\"#Есть-ли-зависимость-между-семейным-положением-и-возвратом-кредита-в-срок?\" data-toc-modified-id=\"Есть-ли-зависимость-между-семейным-положением-и-возвратом-кредита-в-срок?-9.2\"><span class=\"toc-item-num\">9.2&nbsp;&nbsp;</span>Есть ли зависимость между семейным положением и возвратом кредита в срок?</a></span></li><li><span><a href=\"#Есть-ли-зависимость-между-уровнем-дохода-и-возвратом-кредита-в-срок?\" data-toc-modified-id=\"Есть-ли-зависимость-между-уровнем-дохода-и-возвратом-кредита-в-срок?-9.3\"><span class=\"toc-item-num\">9.3&nbsp;&nbsp;</span>Есть ли зависимость между уровнем дохода и возвратом кредита в срок?</a></span></li><li><span><a href=\"#Как-разные-цели-кредита-влияют-на-его-возврат-в-срок?\" data-toc-modified-id=\"Как-разные-цели-кредита-влияют-на-его-возврат-в-срок?-9.4\"><span class=\"toc-item-num\">9.4&nbsp;&nbsp;</span>Как разные цели кредита влияют на его возврат в срок?</a></span></li></ul></li><li><span><a href=\"#Итоги-исследования\" data-toc-modified-id=\"Итоги-исследования-10\"><span class=\"toc-item-num\">10&nbsp;&nbsp;</span>Итоги исследования</a></span></li></ul></div>"
   ]
  },
  {
   "cell_type": "markdown",
   "id": "bf89fa33",
   "metadata": {},
   "source": [
    "# Исследование надежности заемщиков  <a id='intro'></a>"
   ]
  },
  {
   "cell_type": "markdown",
   "id": "897ca390",
   "metadata": {},
   "source": [
    "## Анализ исходных данных"
   ]
  },
  {
   "cell_type": "markdown",
   "id": "2e3f6a84",
   "metadata": {},
   "source": [
    "Заказчик исследования — кредитный отдел банка. \\\n",
    "**Цель исследования** — изучение влияния семейного положения и количества детей клиента на факт погашения кредита в срок. \\\n",
    "Входные данные от банка — статистика о платёжеспособности клиентов.\n",
    "\n",
    "В проецессе исследования необходимо ответить на четыре вопроса:\n",
    "* Есть ли зависимость между количеством детей и возвратом кредита в срок?\n",
    "* Есть ли зависимость между семейным положением и возвратом кредита в срок?\n",
    "* Есть ли зависимость между уровнем дохода и возвратом кредита в срок?\n",
    "* Как разные цели кредита влияют на его возврат в срок? \n",
    "\n",
    "Результаты данного исследования будут учтены при построении модели кредитного скоринга — специальной системы, которая оценивает способность потенциального заёмщика вернуть кредит банку."
   ]
  },
  {
   "cell_type": "markdown",
   "id": "3b444427",
   "metadata": {},
   "source": [
    "Импортируем все необходимые библиотеки для работы и изучим данные."
   ]
  },
  {
   "cell_type": "code",
   "execution_count": 1,
   "id": "5f66fa94",
   "metadata": {},
   "outputs": [],
   "source": [
    "# импортирем все необходимые для работы библиотеки\n",
    "import pandas as pd "
   ]
  },
  {
   "cell_type": "code",
   "execution_count": 2,
   "id": "459312ad",
   "metadata": {},
   "outputs": [],
   "source": [
    "# читаем данные из файла\n",
    "df = pd.read_csv('data.csv') "
   ]
  },
  {
   "cell_type": "code",
   "execution_count": 3,
   "id": "ba732aec",
   "metadata": {},
   "outputs": [
    {
     "data": {
      "text/html": [
       "<div>\n",
       "<style scoped>\n",
       "    .dataframe tbody tr th:only-of-type {\n",
       "        vertical-align: middle;\n",
       "    }\n",
       "\n",
       "    .dataframe tbody tr th {\n",
       "        vertical-align: top;\n",
       "    }\n",
       "\n",
       "    .dataframe thead th {\n",
       "        text-align: right;\n",
       "    }\n",
       "</style>\n",
       "<table border=\"1\" class=\"dataframe\">\n",
       "  <thead>\n",
       "    <tr style=\"text-align: right;\">\n",
       "      <th></th>\n",
       "      <th>children</th>\n",
       "      <th>days_employed</th>\n",
       "      <th>dob_years</th>\n",
       "      <th>education</th>\n",
       "      <th>education_id</th>\n",
       "      <th>family_status</th>\n",
       "      <th>family_status_id</th>\n",
       "      <th>gender</th>\n",
       "      <th>income_type</th>\n",
       "      <th>debt</th>\n",
       "      <th>total_income</th>\n",
       "      <th>purpose</th>\n",
       "    </tr>\n",
       "  </thead>\n",
       "  <tbody>\n",
       "    <tr>\n",
       "      <th>0</th>\n",
       "      <td>1</td>\n",
       "      <td>-8437.673028</td>\n",
       "      <td>42</td>\n",
       "      <td>высшее</td>\n",
       "      <td>0</td>\n",
       "      <td>женат / замужем</td>\n",
       "      <td>0</td>\n",
       "      <td>F</td>\n",
       "      <td>сотрудник</td>\n",
       "      <td>0</td>\n",
       "      <td>253875.639453</td>\n",
       "      <td>покупка жилья</td>\n",
       "    </tr>\n",
       "    <tr>\n",
       "      <th>1</th>\n",
       "      <td>1</td>\n",
       "      <td>-4024.803754</td>\n",
       "      <td>36</td>\n",
       "      <td>среднее</td>\n",
       "      <td>1</td>\n",
       "      <td>женат / замужем</td>\n",
       "      <td>0</td>\n",
       "      <td>F</td>\n",
       "      <td>сотрудник</td>\n",
       "      <td>0</td>\n",
       "      <td>112080.014102</td>\n",
       "      <td>приобретение автомобиля</td>\n",
       "    </tr>\n",
       "    <tr>\n",
       "      <th>2</th>\n",
       "      <td>0</td>\n",
       "      <td>-5623.422610</td>\n",
       "      <td>33</td>\n",
       "      <td>Среднее</td>\n",
       "      <td>1</td>\n",
       "      <td>женат / замужем</td>\n",
       "      <td>0</td>\n",
       "      <td>M</td>\n",
       "      <td>сотрудник</td>\n",
       "      <td>0</td>\n",
       "      <td>145885.952297</td>\n",
       "      <td>покупка жилья</td>\n",
       "    </tr>\n",
       "    <tr>\n",
       "      <th>3</th>\n",
       "      <td>3</td>\n",
       "      <td>-4124.747207</td>\n",
       "      <td>32</td>\n",
       "      <td>среднее</td>\n",
       "      <td>1</td>\n",
       "      <td>женат / замужем</td>\n",
       "      <td>0</td>\n",
       "      <td>M</td>\n",
       "      <td>сотрудник</td>\n",
       "      <td>0</td>\n",
       "      <td>267628.550329</td>\n",
       "      <td>дополнительное образование</td>\n",
       "    </tr>\n",
       "    <tr>\n",
       "      <th>4</th>\n",
       "      <td>0</td>\n",
       "      <td>340266.072047</td>\n",
       "      <td>53</td>\n",
       "      <td>среднее</td>\n",
       "      <td>1</td>\n",
       "      <td>гражданский брак</td>\n",
       "      <td>1</td>\n",
       "      <td>F</td>\n",
       "      <td>пенсионер</td>\n",
       "      <td>0</td>\n",
       "      <td>158616.077870</td>\n",
       "      <td>сыграть свадьбу</td>\n",
       "    </tr>\n",
       "    <tr>\n",
       "      <th>5</th>\n",
       "      <td>0</td>\n",
       "      <td>-926.185831</td>\n",
       "      <td>27</td>\n",
       "      <td>высшее</td>\n",
       "      <td>0</td>\n",
       "      <td>гражданский брак</td>\n",
       "      <td>1</td>\n",
       "      <td>M</td>\n",
       "      <td>компаньон</td>\n",
       "      <td>0</td>\n",
       "      <td>255763.565419</td>\n",
       "      <td>покупка жилья</td>\n",
       "    </tr>\n",
       "    <tr>\n",
       "      <th>6</th>\n",
       "      <td>0</td>\n",
       "      <td>-2879.202052</td>\n",
       "      <td>43</td>\n",
       "      <td>высшее</td>\n",
       "      <td>0</td>\n",
       "      <td>женат / замужем</td>\n",
       "      <td>0</td>\n",
       "      <td>F</td>\n",
       "      <td>компаньон</td>\n",
       "      <td>0</td>\n",
       "      <td>240525.971920</td>\n",
       "      <td>операции с жильем</td>\n",
       "    </tr>\n",
       "    <tr>\n",
       "      <th>7</th>\n",
       "      <td>0</td>\n",
       "      <td>-152.779569</td>\n",
       "      <td>50</td>\n",
       "      <td>СРЕДНЕЕ</td>\n",
       "      <td>1</td>\n",
       "      <td>женат / замужем</td>\n",
       "      <td>0</td>\n",
       "      <td>M</td>\n",
       "      <td>сотрудник</td>\n",
       "      <td>0</td>\n",
       "      <td>135823.934197</td>\n",
       "      <td>образование</td>\n",
       "    </tr>\n",
       "    <tr>\n",
       "      <th>8</th>\n",
       "      <td>2</td>\n",
       "      <td>-6929.865299</td>\n",
       "      <td>35</td>\n",
       "      <td>ВЫСШЕЕ</td>\n",
       "      <td>0</td>\n",
       "      <td>гражданский брак</td>\n",
       "      <td>1</td>\n",
       "      <td>F</td>\n",
       "      <td>сотрудник</td>\n",
       "      <td>0</td>\n",
       "      <td>95856.832424</td>\n",
       "      <td>на проведение свадьбы</td>\n",
       "    </tr>\n",
       "    <tr>\n",
       "      <th>9</th>\n",
       "      <td>0</td>\n",
       "      <td>-2188.756445</td>\n",
       "      <td>41</td>\n",
       "      <td>среднее</td>\n",
       "      <td>1</td>\n",
       "      <td>женат / замужем</td>\n",
       "      <td>0</td>\n",
       "      <td>M</td>\n",
       "      <td>сотрудник</td>\n",
       "      <td>0</td>\n",
       "      <td>144425.938277</td>\n",
       "      <td>покупка жилья для семьи</td>\n",
       "    </tr>\n",
       "  </tbody>\n",
       "</table>\n",
       "</div>"
      ],
      "text/plain": [
       "   children  days_employed  dob_years education  education_id  \\\n",
       "0         1   -8437.673028         42    высшее             0   \n",
       "1         1   -4024.803754         36   среднее             1   \n",
       "2         0   -5623.422610         33   Среднее             1   \n",
       "3         3   -4124.747207         32   среднее             1   \n",
       "4         0  340266.072047         53   среднее             1   \n",
       "5         0    -926.185831         27    высшее             0   \n",
       "6         0   -2879.202052         43    высшее             0   \n",
       "7         0    -152.779569         50   СРЕДНЕЕ             1   \n",
       "8         2   -6929.865299         35    ВЫСШЕЕ             0   \n",
       "9         0   -2188.756445         41   среднее             1   \n",
       "\n",
       "      family_status  family_status_id gender income_type  debt   total_income  \\\n",
       "0   женат / замужем                 0      F   сотрудник     0  253875.639453   \n",
       "1   женат / замужем                 0      F   сотрудник     0  112080.014102   \n",
       "2   женат / замужем                 0      M   сотрудник     0  145885.952297   \n",
       "3   женат / замужем                 0      M   сотрудник     0  267628.550329   \n",
       "4  гражданский брак                 1      F   пенсионер     0  158616.077870   \n",
       "5  гражданский брак                 1      M   компаньон     0  255763.565419   \n",
       "6   женат / замужем                 0      F   компаньон     0  240525.971920   \n",
       "7   женат / замужем                 0      M   сотрудник     0  135823.934197   \n",
       "8  гражданский брак                 1      F   сотрудник     0   95856.832424   \n",
       "9   женат / замужем                 0      M   сотрудник     0  144425.938277   \n",
       "\n",
       "                      purpose  \n",
       "0               покупка жилья  \n",
       "1     приобретение автомобиля  \n",
       "2               покупка жилья  \n",
       "3  дополнительное образование  \n",
       "4             сыграть свадьбу  \n",
       "5               покупка жилья  \n",
       "6           операции с жильем  \n",
       "7                 образование  \n",
       "8       на проведение свадьбы  \n",
       "9     покупка жилья для семьи  "
      ]
     },
     "execution_count": 3,
     "metadata": {},
     "output_type": "execute_result"
    }
   ],
   "source": [
    "# рассмотрение структуры данных на первых строках\n",
    "df.head(10) "
   ]
  },
  {
   "cell_type": "markdown",
   "id": "d164b5e5",
   "metadata": {},
   "source": [
    "### Описание данных\n",
    "\n",
    "Согласно документации к данным:\n",
    "* `children` — количество детей в семье;\n",
    "* `days_employed` — общий трудовой стаж в днях;\n",
    "* `dob_years` — возраст клиента в годах;\n",
    "* `education` — уровень образования клиента;\n",
    "* `education_id` — идентификатор уровня образования;\n",
    "* `family_status` — семейное положение;\n",
    "* `family_status_id` — идентификатор семейного положения;\n",
    "* `gender` — пол клиента;\n",
    "* `income_type` — тип занятости;\n",
    "* `debt` — имел ли задолженность по возврату кредитов;\n",
    "* `total_income` — ежемесячный доход;\n",
    "* `purpose` — цель получения кредита."
   ]
  },
  {
   "cell_type": "markdown",
   "id": "8cc4c150",
   "metadata": {},
   "source": [
    "### Краткий анализ данных датасета"
   ]
  },
  {
   "cell_type": "markdown",
   "id": "090d7531",
   "metadata": {},
   "source": [
    "При первом просмотре датасета можно увидеть, что:\n",
    "* все столбцы названы коректно и отражают смысл информации в ячейках, изменение названий не требуется;\n",
    "* датасет перегружен столбцами с категорийными типами данных . Анализировать такие данные будет не удобно, исправим эту проблему при помощи словарей;\n",
    "* в данных присутствуют аномалии - отрицательный трудовой стаж в столбце `days_employed`, а также присутсвуют неявные дубликаты в столбце `education`. \n",
    "\n",
    "Перед началом предобработки данных и видимых аномалий необходимо также просмотреть полную информацию о представленных данных."
   ]
  },
  {
   "cell_type": "markdown",
   "id": "b450fd25",
   "metadata": {},
   "source": [
    "## Поиск артефактов"
   ]
  },
  {
   "cell_type": "markdown",
   "id": "28c365cd",
   "metadata": {},
   "source": [
    "Получим полную информацию о представленном файле и типах данных, представленных в столбцах"
   ]
  },
  {
   "cell_type": "code",
   "execution_count": 4,
   "id": "e8d1dfcf",
   "metadata": {},
   "outputs": [
    {
     "name": "stdout",
     "output_type": "stream",
     "text": [
      "<class 'pandas.core.frame.DataFrame'>\n",
      "RangeIndex: 21525 entries, 0 to 21524\n",
      "Data columns (total 12 columns):\n",
      " #   Column            Non-Null Count  Dtype  \n",
      "---  ------            --------------  -----  \n",
      " 0   children          21525 non-null  int64  \n",
      " 1   days_employed     19351 non-null  float64\n",
      " 2   dob_years         21525 non-null  int64  \n",
      " 3   education         21525 non-null  object \n",
      " 4   education_id      21525 non-null  int64  \n",
      " 5   family_status     21525 non-null  object \n",
      " 6   family_status_id  21525 non-null  int64  \n",
      " 7   gender            21525 non-null  object \n",
      " 8   income_type       21525 non-null  object \n",
      " 9   debt              21525 non-null  int64  \n",
      " 10  total_income      19351 non-null  float64\n",
      " 11  purpose           21525 non-null  object \n",
      "dtypes: float64(2), int64(5), object(5)\n",
      "memory usage: 2.0+ MB\n"
     ]
    }
   ],
   "source": [
    "# полная информация о датасете\n",
    "df.info()"
   ]
  },
  {
   "cell_type": "markdown",
   "id": "89207429",
   "metadata": {},
   "source": [
    "Датасет представлен выборкой из 21525 строки и 12 колонок с информацией по каждой заявке на выдачу кредита.\n",
    "\n",
    "Проверим, есть ли пропуски в данных:"
   ]
  },
  {
   "cell_type": "code",
   "execution_count": 5,
   "id": "5f079b33",
   "metadata": {
    "scrolled": true
   },
   "outputs": [
    {
     "data": {
      "text/plain": [
       "children               0\n",
       "days_employed       2174\n",
       "dob_years              0\n",
       "education              0\n",
       "education_id           0\n",
       "family_status          0\n",
       "family_status_id       0\n",
       "gender                 0\n",
       "income_type            0\n",
       "debt                   0\n",
       "total_income        2174\n",
       "purpose                0\n",
       "dtype: int64"
      ]
     },
     "execution_count": 5,
     "metadata": {},
     "output_type": "execute_result"
    }
   ],
   "source": [
    "# проверка пропусков в данных\n",
    "df.isna().sum()"
   ]
  },
  {
   "cell_type": "code",
   "execution_count": 6,
   "id": "e9d6e5f3",
   "metadata": {},
   "outputs": [
    {
     "data": {
      "text/html": [
       "<style type=\"text/css\">\n",
       "#T_0c44e_row0_col0, #T_0c44e_row2_col0, #T_0c44e_row3_col0, #T_0c44e_row4_col0, #T_0c44e_row5_col0, #T_0c44e_row6_col0, #T_0c44e_row7_col0, #T_0c44e_row8_col0, #T_0c44e_row9_col0, #T_0c44e_row11_col0 {\n",
       "  background-color: #ffffcc;\n",
       "  color: #000000;\n",
       "}\n",
       "#T_0c44e_row1_col0, #T_0c44e_row10_col0 {\n",
       "  background-color: #800026;\n",
       "  color: #f1f1f1;\n",
       "}\n",
       "</style>\n",
       "<table id=\"T_0c44e_\">\n",
       "  <thead>\n",
       "    <tr>\n",
       "      <th class=\"blank level0\" >&nbsp;</th>\n",
       "      <th class=\"col_heading level0 col0\" >NaNs, %</th>\n",
       "    </tr>\n",
       "  </thead>\n",
       "  <tbody>\n",
       "    <tr>\n",
       "      <th id=\"T_0c44e_level0_row0\" class=\"row_heading level0 row0\" >children</th>\n",
       "      <td id=\"T_0c44e_row0_col0\" class=\"data row0 col0\" >0.0</td>\n",
       "    </tr>\n",
       "    <tr>\n",
       "      <th id=\"T_0c44e_level0_row1\" class=\"row_heading level0 row1\" >days_employed</th>\n",
       "      <td id=\"T_0c44e_row1_col0\" class=\"data row1 col0\" >10.1</td>\n",
       "    </tr>\n",
       "    <tr>\n",
       "      <th id=\"T_0c44e_level0_row2\" class=\"row_heading level0 row2\" >dob_years</th>\n",
       "      <td id=\"T_0c44e_row2_col0\" class=\"data row2 col0\" >0.0</td>\n",
       "    </tr>\n",
       "    <tr>\n",
       "      <th id=\"T_0c44e_level0_row3\" class=\"row_heading level0 row3\" >education</th>\n",
       "      <td id=\"T_0c44e_row3_col0\" class=\"data row3 col0\" >0.0</td>\n",
       "    </tr>\n",
       "    <tr>\n",
       "      <th id=\"T_0c44e_level0_row4\" class=\"row_heading level0 row4\" >education_id</th>\n",
       "      <td id=\"T_0c44e_row4_col0\" class=\"data row4 col0\" >0.0</td>\n",
       "    </tr>\n",
       "    <tr>\n",
       "      <th id=\"T_0c44e_level0_row5\" class=\"row_heading level0 row5\" >family_status</th>\n",
       "      <td id=\"T_0c44e_row5_col0\" class=\"data row5 col0\" >0.0</td>\n",
       "    </tr>\n",
       "    <tr>\n",
       "      <th id=\"T_0c44e_level0_row6\" class=\"row_heading level0 row6\" >family_status_id</th>\n",
       "      <td id=\"T_0c44e_row6_col0\" class=\"data row6 col0\" >0.0</td>\n",
       "    </tr>\n",
       "    <tr>\n",
       "      <th id=\"T_0c44e_level0_row7\" class=\"row_heading level0 row7\" >gender</th>\n",
       "      <td id=\"T_0c44e_row7_col0\" class=\"data row7 col0\" >0.0</td>\n",
       "    </tr>\n",
       "    <tr>\n",
       "      <th id=\"T_0c44e_level0_row8\" class=\"row_heading level0 row8\" >income_type</th>\n",
       "      <td id=\"T_0c44e_row8_col0\" class=\"data row8 col0\" >0.0</td>\n",
       "    </tr>\n",
       "    <tr>\n",
       "      <th id=\"T_0c44e_level0_row9\" class=\"row_heading level0 row9\" >debt</th>\n",
       "      <td id=\"T_0c44e_row9_col0\" class=\"data row9 col0\" >0.0</td>\n",
       "    </tr>\n",
       "    <tr>\n",
       "      <th id=\"T_0c44e_level0_row10\" class=\"row_heading level0 row10\" >total_income</th>\n",
       "      <td id=\"T_0c44e_row10_col0\" class=\"data row10 col0\" >10.1</td>\n",
       "    </tr>\n",
       "    <tr>\n",
       "      <th id=\"T_0c44e_level0_row11\" class=\"row_heading level0 row11\" >purpose</th>\n",
       "      <td id=\"T_0c44e_row11_col0\" class=\"data row11 col0\" >0.0</td>\n",
       "    </tr>\n",
       "  </tbody>\n",
       "</table>\n"
      ],
      "text/plain": [
       "<pandas.io.formats.style.Styler at 0x266fadb7d60>"
      ]
     },
     "metadata": {},
     "output_type": "display_data"
    }
   ],
   "source": [
    "display(pd.DataFrame(round((df.isna().mean()*100),2), columns=['NaNs, %']).style.format(\n",
    "    '{:.1f}').background_gradient('YlOrRd'))"
   ]
  },
  {
   "cell_type": "markdown",
   "id": "94fb8d97",
   "metadata": {},
   "source": [
    "В представленных данных имеются пропуски в столбцах `days_employed` и `total_income`\\\n",
    "Пропуски составляют 10 % всей выборки. Строки с пропусками нельзя удалить из общей выборки, так как могут имеют большое влияние на результаты анализа.\n",
    "\n",
    "Возможными причинами пропуска данных в этих столбцах являются:\n",
    "* данные не указал клиент при оформлении заявки на кредит;\n",
    "* данные не были занесены в систему по невнимательности кредитного менеджера;\n",
    "* технологическая ошибка системы выгрузки данных;\n",
    "\n",
    "Наилучим решением данной проблемы будет заполнение пропущенных значений медианными значениями. \n",
    "\n",
    "Поскольку данные столбцы описывают трудовой стаж и доход клиента, замена пропущенного значения на среднее по столбцу может повести за собой необосновано высокое значение \"искусственого\" трудового стажа в следствие того, что в выборке имеются как и пенсионеры с большим стажем работы (их доля в этой выборке небольшая), а также, в свою очередь, возможно завышение дохода клиента, так как в выборке присутствуют клиенты с высокими зарплатами и их доля также небольшая. "
   ]
  },
  {
   "cell_type": "markdown",
   "id": "a7c48ada",
   "metadata": {},
   "source": [
    "Поскольку в столбце `day_employed` имеются аномальные отрицательные значения, сначала исправим их, а затем заполним пропуски в данных."
   ]
  },
  {
   "cell_type": "markdown",
   "id": "6b90e4ec",
   "metadata": {},
   "source": [
    "Изучим какую часть выборки составляют представленные аномалии от общего числа заявок."
   ]
  },
  {
   "cell_type": "code",
   "execution_count": 7,
   "id": "fa54a55d",
   "metadata": {},
   "outputs": [
    {
     "data": {
      "text/plain": [
       "<AxesSubplot:>"
      ]
     },
     "execution_count": 7,
     "metadata": {},
     "output_type": "execute_result"
    },
    {
     "data": {
      "image/png": "[encoded data removed]",
      "text/plain": [
       "<Figure size 432x288 with 1 Axes>"
      ]
     },
     "metadata": {
      "needs_background": "light"
     },
     "output_type": "display_data"
    }
   ],
   "source": [
    "# просматриваю разбросс данных столбца 'days_employed'\n",
    "df.boxplot('days_employed')"
   ]
  },
  {
   "cell_type": "markdown",
   "id": "6c5c820e",
   "metadata": {},
   "source": [
    "Как видно из диаграммы, в данных столбца `days_employed` встречаются несколько аномалий:\n",
    "\n",
    "* отрицательные значения трудового стажа;\n",
    "* аномально высокие значения трудового стажа;\n",
    "\n",
    "Изучим каждый пункт отдельно."
   ]
  },
  {
   "cell_type": "markdown",
   "id": "b09587c2",
   "metadata": {},
   "source": [
    "Получим данные об отрицательных значениях в столбце `days_employed` датасета:"
   ]
  },
  {
   "cell_type": "code",
   "execution_count": 8,
   "id": "1610d538",
   "metadata": {},
   "outputs": [
    {
     "data": {
      "text/plain": [
       "count    15906.000000\n",
       "mean        -9.526380\n",
       "std          9.328922\n",
       "min        -74.449190\n",
       "25%        -12.783320\n",
       "50%         -6.599269\n",
       "75%         -3.062235\n",
       "max         -0.097739\n",
       "Name: days_employed, dtype: float64"
      ]
     },
     "execution_count": 8,
     "metadata": {},
     "output_type": "execute_result"
    }
   ],
   "source": [
    "# для удобства анализа перевожу дни в годы, исходя из того, что в среднем в году 247 рабочих дней\n",
    "df[df['days_employed'] < 0]['days_employed'].apply(lambda x: x/247).describe()"
   ]
  },
  {
   "cell_type": "markdown",
   "id": "b88a3e8d",
   "metadata": {},
   "source": [
    "Как видно из данной информации, если обращать внимание на абсолютное значение в годах, то данные похожи на реальные - средний трудовой стаж клиентов достигает 9 лет, максимальный - 74 года. \\\n",
    "Возможно произошла технологическая ошибка при выгрузке данных и реальный трудовой стаж стал записываться со знаком минус. \n",
    "\n",
    "Изучим аномальные значения в данном столбце. В выборке видно, что все аномальные значения стажа лежат выше 300 000 дней. Учтем это при анализе:"
   ]
  },
  {
   "cell_type": "code",
   "execution_count": 9,
   "id": "63dd7fac",
   "metadata": {},
   "outputs": [
    {
     "data": {
      "text/plain": [
       "count    3445.000000\n",
       "mean     1477.750243\n",
       "std        85.323953\n",
       "min      1330.885509\n",
       "25%      1403.398437\n",
       "50%      1478.596382\n",
       "75%      1551.605037\n",
       "max      1626.540083\n",
       "Name: days_employed, dtype: float64"
      ]
     },
     "execution_count": 9,
     "metadata": {},
     "output_type": "execute_result"
    }
   ],
   "source": [
    "# аналогично для аномально высоких значений исходя из графика выше\n",
    "df[df['days_employed'] > 300000]['days_employed'].apply(lambda x: x/247).describe()"
   ]
  },
  {
   "cell_type": "markdown",
   "id": "30892f8b",
   "metadata": {},
   "source": [
    "Исходя из данной информации, можно сделать вывод, что среднее значения стажа 1447 лет не соответствует реальности. Это серьезная аномалия. "
   ]
  },
  {
   "cell_type": "markdown",
   "id": "41276b63",
   "metadata": {},
   "source": [
    "Посмотрим какую часть данных занимает каждая группа значений."
   ]
  },
  {
   "cell_type": "code",
   "execution_count": 10,
   "id": "1baacba3",
   "metadata": {},
   "outputs": [],
   "source": [
    "def day_category(days): # использую функция распредления трудового стажа по группам для вычисления процента аномалий\n",
    "      \n",
    "    try: \n",
    "        if days <= 0:\n",
    "            return 'отрицатальный стаж'\n",
    "        if days > 300000: # аномально высокие значения лежат представлены на графике после 300 000 дней\n",
    "            return 'аномалия'\n",
    "        if 0 < days < 300000:\n",
    "            return 'ok'\n",
    "    except:\n",
    "        print('артефакт')"
   ]
  },
  {
   "cell_type": "code",
   "execution_count": 11,
   "id": "b69eca49",
   "metadata": {},
   "outputs": [
    {
     "name": "stdout",
     "output_type": "stream",
     "text": [
      "отрицатальный стаж\n",
      "ok\n",
      "аномалия\n"
     ]
    }
   ],
   "source": [
    "# тестирую функцию \n",
    "print(day_category(-3000))\n",
    "print(day_category(2000))\n",
    "print(day_category(1000000))"
   ]
  },
  {
   "cell_type": "code",
   "execution_count": 12,
   "id": "a84460e2",
   "metadata": {},
   "outputs": [],
   "source": [
    "# применяю функцию к столбцу 'days_employed'\n",
    "df['data_category'] = df['days_employed'].apply(day_category)"
   ]
  },
  {
   "cell_type": "code",
   "execution_count": 13,
   "id": "e4852af3",
   "metadata": {},
   "outputs": [
    {
     "data": {
      "text/html": [
       "<div>\n",
       "<style scoped>\n",
       "    .dataframe tbody tr th:only-of-type {\n",
       "        vertical-align: middle;\n",
       "    }\n",
       "\n",
       "    .dataframe tbody tr th {\n",
       "        vertical-align: top;\n",
       "    }\n",
       "\n",
       "    .dataframe thead th {\n",
       "        text-align: right;\n",
       "    }\n",
       "</style>\n",
       "<table border=\"1\" class=\"dataframe\">\n",
       "  <thead>\n",
       "    <tr style=\"text-align: right;\">\n",
       "      <th></th>\n",
       "      <th>children</th>\n",
       "      <th>days_employed</th>\n",
       "      <th>dob_years</th>\n",
       "      <th>education</th>\n",
       "      <th>education_id</th>\n",
       "      <th>family_status</th>\n",
       "      <th>family_status_id</th>\n",
       "      <th>gender</th>\n",
       "      <th>income_type</th>\n",
       "      <th>debt</th>\n",
       "      <th>total_income</th>\n",
       "      <th>purpose</th>\n",
       "      <th>data_category</th>\n",
       "    </tr>\n",
       "  </thead>\n",
       "  <tbody>\n",
       "    <tr>\n",
       "      <th>0</th>\n",
       "      <td>1</td>\n",
       "      <td>-8437.673028</td>\n",
       "      <td>42</td>\n",
       "      <td>высшее</td>\n",
       "      <td>0</td>\n",
       "      <td>женат / замужем</td>\n",
       "      <td>0</td>\n",
       "      <td>F</td>\n",
       "      <td>сотрудник</td>\n",
       "      <td>0</td>\n",
       "      <td>253875.639453</td>\n",
       "      <td>покупка жилья</td>\n",
       "      <td>отрицатальный стаж</td>\n",
       "    </tr>\n",
       "    <tr>\n",
       "      <th>1</th>\n",
       "      <td>1</td>\n",
       "      <td>-4024.803754</td>\n",
       "      <td>36</td>\n",
       "      <td>среднее</td>\n",
       "      <td>1</td>\n",
       "      <td>женат / замужем</td>\n",
       "      <td>0</td>\n",
       "      <td>F</td>\n",
       "      <td>сотрудник</td>\n",
       "      <td>0</td>\n",
       "      <td>112080.014102</td>\n",
       "      <td>приобретение автомобиля</td>\n",
       "      <td>отрицатальный стаж</td>\n",
       "    </tr>\n",
       "    <tr>\n",
       "      <th>2</th>\n",
       "      <td>0</td>\n",
       "      <td>-5623.422610</td>\n",
       "      <td>33</td>\n",
       "      <td>Среднее</td>\n",
       "      <td>1</td>\n",
       "      <td>женат / замужем</td>\n",
       "      <td>0</td>\n",
       "      <td>M</td>\n",
       "      <td>сотрудник</td>\n",
       "      <td>0</td>\n",
       "      <td>145885.952297</td>\n",
       "      <td>покупка жилья</td>\n",
       "      <td>отрицатальный стаж</td>\n",
       "    </tr>\n",
       "    <tr>\n",
       "      <th>3</th>\n",
       "      <td>3</td>\n",
       "      <td>-4124.747207</td>\n",
       "      <td>32</td>\n",
       "      <td>среднее</td>\n",
       "      <td>1</td>\n",
       "      <td>женат / замужем</td>\n",
       "      <td>0</td>\n",
       "      <td>M</td>\n",
       "      <td>сотрудник</td>\n",
       "      <td>0</td>\n",
       "      <td>267628.550329</td>\n",
       "      <td>дополнительное образование</td>\n",
       "      <td>отрицатальный стаж</td>\n",
       "    </tr>\n",
       "    <tr>\n",
       "      <th>4</th>\n",
       "      <td>0</td>\n",
       "      <td>340266.072047</td>\n",
       "      <td>53</td>\n",
       "      <td>среднее</td>\n",
       "      <td>1</td>\n",
       "      <td>гражданский брак</td>\n",
       "      <td>1</td>\n",
       "      <td>F</td>\n",
       "      <td>пенсионер</td>\n",
       "      <td>0</td>\n",
       "      <td>158616.077870</td>\n",
       "      <td>сыграть свадьбу</td>\n",
       "      <td>аномалия</td>\n",
       "    </tr>\n",
       "  </tbody>\n",
       "</table>\n",
       "</div>"
      ],
      "text/plain": [
       "   children  days_employed  dob_years education  education_id  \\\n",
       "0         1   -8437.673028         42    высшее             0   \n",
       "1         1   -4024.803754         36   среднее             1   \n",
       "2         0   -5623.422610         33   Среднее             1   \n",
       "3         3   -4124.747207         32   среднее             1   \n",
       "4         0  340266.072047         53   среднее             1   \n",
       "\n",
       "      family_status  family_status_id gender income_type  debt   total_income  \\\n",
       "0   женат / замужем                 0      F   сотрудник     0  253875.639453   \n",
       "1   женат / замужем                 0      F   сотрудник     0  112080.014102   \n",
       "2   женат / замужем                 0      M   сотрудник     0  145885.952297   \n",
       "3   женат / замужем                 0      M   сотрудник     0  267628.550329   \n",
       "4  гражданский брак                 1      F   пенсионер     0  158616.077870   \n",
       "\n",
       "                      purpose       data_category  \n",
       "0               покупка жилья  отрицатальный стаж  \n",
       "1     приобретение автомобиля  отрицатальный стаж  \n",
       "2               покупка жилья  отрицатальный стаж  \n",
       "3  дополнительное образование  отрицатальный стаж  \n",
       "4             сыграть свадьбу            аномалия  "
      ]
     },
     "execution_count": 13,
     "metadata": {},
     "output_type": "execute_result"
    }
   ],
   "source": [
    "# проверяю корректность работы функции на всем датасете\n",
    "df.head()"
   ]
  },
  {
   "cell_type": "code",
   "execution_count": 14,
   "id": "4f2f45c1",
   "metadata": {},
   "outputs": [
    {
     "data": {
      "text/plain": [
       "отрицатальный стаж    0.821973\n",
       "аномалия              0.178027\n",
       "Name: data_category, dtype: float64"
      ]
     },
     "execution_count": 14,
     "metadata": {},
     "output_type": "execute_result"
    }
   ],
   "source": [
    "# считаю, сколько значений в каждой категории\n",
    "df['data_category'].value_counts(normalize=True)"
   ]
  },
  {
   "cell_type": "markdown",
   "id": "abc2ffa2",
   "metadata": {},
   "source": [
    "Исходя из представленных данных, можно сделать вывод, что 18 % выборки составляют аномально высокие значения (3 445 шт.), а отрицательные значения (15 906 шт.) - 82%, с признаком \"отрицательный стаж\", являются технологической ошибкой выгрузки из базы данных и содержат в себе реальные данные трудового стажа.\n",
    "\n",
    "Сначала произведем корректировку строчек с отрицательным стажем работы, а затем заменим значения в ячейках с нулевым и аномальным значением."
   ]
  },
  {
   "cell_type": "code",
   "execution_count": 15,
   "id": "11834c72",
   "metadata": {},
   "outputs": [],
   "source": [
    "# заменяем отрицательные значения трудового стажа на абсолютные\n",
    "df['days_employed'] = df['days_employed'].abs()\n",
    "\n",
    "# переназову столбец `data_category` в соответвии с измененим отрицательных значений на абсолютные\n",
    "df['data_category'] = df['days_employed'].apply(day_category)"
   ]
  },
  {
   "cell_type": "code",
   "execution_count": 16,
   "id": "131ddb3b",
   "metadata": {},
   "outputs": [
    {
     "data": {
      "text/html": [
       "<div>\n",
       "<style scoped>\n",
       "    .dataframe tbody tr th:only-of-type {\n",
       "        vertical-align: middle;\n",
       "    }\n",
       "\n",
       "    .dataframe tbody tr th {\n",
       "        vertical-align: top;\n",
       "    }\n",
       "\n",
       "    .dataframe thead th {\n",
       "        text-align: right;\n",
       "    }\n",
       "</style>\n",
       "<table border=\"1\" class=\"dataframe\">\n",
       "  <thead>\n",
       "    <tr style=\"text-align: right;\">\n",
       "      <th></th>\n",
       "      <th>children</th>\n",
       "      <th>days_employed</th>\n",
       "      <th>dob_years</th>\n",
       "      <th>education</th>\n",
       "      <th>education_id</th>\n",
       "      <th>family_status</th>\n",
       "      <th>family_status_id</th>\n",
       "      <th>gender</th>\n",
       "      <th>income_type</th>\n",
       "      <th>debt</th>\n",
       "      <th>total_income</th>\n",
       "      <th>purpose</th>\n",
       "      <th>data_category</th>\n",
       "    </tr>\n",
       "  </thead>\n",
       "  <tbody>\n",
       "    <tr>\n",
       "      <th>0</th>\n",
       "      <td>1</td>\n",
       "      <td>8437.673028</td>\n",
       "      <td>42</td>\n",
       "      <td>высшее</td>\n",
       "      <td>0</td>\n",
       "      <td>женат / замужем</td>\n",
       "      <td>0</td>\n",
       "      <td>F</td>\n",
       "      <td>сотрудник</td>\n",
       "      <td>0</td>\n",
       "      <td>253875.639453</td>\n",
       "      <td>покупка жилья</td>\n",
       "      <td>ok</td>\n",
       "    </tr>\n",
       "    <tr>\n",
       "      <th>1</th>\n",
       "      <td>1</td>\n",
       "      <td>4024.803754</td>\n",
       "      <td>36</td>\n",
       "      <td>среднее</td>\n",
       "      <td>1</td>\n",
       "      <td>женат / замужем</td>\n",
       "      <td>0</td>\n",
       "      <td>F</td>\n",
       "      <td>сотрудник</td>\n",
       "      <td>0</td>\n",
       "      <td>112080.014102</td>\n",
       "      <td>приобретение автомобиля</td>\n",
       "      <td>ok</td>\n",
       "    </tr>\n",
       "    <tr>\n",
       "      <th>2</th>\n",
       "      <td>0</td>\n",
       "      <td>5623.422610</td>\n",
       "      <td>33</td>\n",
       "      <td>Среднее</td>\n",
       "      <td>1</td>\n",
       "      <td>женат / замужем</td>\n",
       "      <td>0</td>\n",
       "      <td>M</td>\n",
       "      <td>сотрудник</td>\n",
       "      <td>0</td>\n",
       "      <td>145885.952297</td>\n",
       "      <td>покупка жилья</td>\n",
       "      <td>ok</td>\n",
       "    </tr>\n",
       "    <tr>\n",
       "      <th>3</th>\n",
       "      <td>3</td>\n",
       "      <td>4124.747207</td>\n",
       "      <td>32</td>\n",
       "      <td>среднее</td>\n",
       "      <td>1</td>\n",
       "      <td>женат / замужем</td>\n",
       "      <td>0</td>\n",
       "      <td>M</td>\n",
       "      <td>сотрудник</td>\n",
       "      <td>0</td>\n",
       "      <td>267628.550329</td>\n",
       "      <td>дополнительное образование</td>\n",
       "      <td>ok</td>\n",
       "    </tr>\n",
       "    <tr>\n",
       "      <th>4</th>\n",
       "      <td>0</td>\n",
       "      <td>340266.072047</td>\n",
       "      <td>53</td>\n",
       "      <td>среднее</td>\n",
       "      <td>1</td>\n",
       "      <td>гражданский брак</td>\n",
       "      <td>1</td>\n",
       "      <td>F</td>\n",
       "      <td>пенсионер</td>\n",
       "      <td>0</td>\n",
       "      <td>158616.077870</td>\n",
       "      <td>сыграть свадьбу</td>\n",
       "      <td>аномалия</td>\n",
       "    </tr>\n",
       "    <tr>\n",
       "      <th>5</th>\n",
       "      <td>0</td>\n",
       "      <td>926.185831</td>\n",
       "      <td>27</td>\n",
       "      <td>высшее</td>\n",
       "      <td>0</td>\n",
       "      <td>гражданский брак</td>\n",
       "      <td>1</td>\n",
       "      <td>M</td>\n",
       "      <td>компаньон</td>\n",
       "      <td>0</td>\n",
       "      <td>255763.565419</td>\n",
       "      <td>покупка жилья</td>\n",
       "      <td>ok</td>\n",
       "    </tr>\n",
       "    <tr>\n",
       "      <th>6</th>\n",
       "      <td>0</td>\n",
       "      <td>2879.202052</td>\n",
       "      <td>43</td>\n",
       "      <td>высшее</td>\n",
       "      <td>0</td>\n",
       "      <td>женат / замужем</td>\n",
       "      <td>0</td>\n",
       "      <td>F</td>\n",
       "      <td>компаньон</td>\n",
       "      <td>0</td>\n",
       "      <td>240525.971920</td>\n",
       "      <td>операции с жильем</td>\n",
       "      <td>ok</td>\n",
       "    </tr>\n",
       "    <tr>\n",
       "      <th>7</th>\n",
       "      <td>0</td>\n",
       "      <td>152.779569</td>\n",
       "      <td>50</td>\n",
       "      <td>СРЕДНЕЕ</td>\n",
       "      <td>1</td>\n",
       "      <td>женат / замужем</td>\n",
       "      <td>0</td>\n",
       "      <td>M</td>\n",
       "      <td>сотрудник</td>\n",
       "      <td>0</td>\n",
       "      <td>135823.934197</td>\n",
       "      <td>образование</td>\n",
       "      <td>ok</td>\n",
       "    </tr>\n",
       "    <tr>\n",
       "      <th>8</th>\n",
       "      <td>2</td>\n",
       "      <td>6929.865299</td>\n",
       "      <td>35</td>\n",
       "      <td>ВЫСШЕЕ</td>\n",
       "      <td>0</td>\n",
       "      <td>гражданский брак</td>\n",
       "      <td>1</td>\n",
       "      <td>F</td>\n",
       "      <td>сотрудник</td>\n",
       "      <td>0</td>\n",
       "      <td>95856.832424</td>\n",
       "      <td>на проведение свадьбы</td>\n",
       "      <td>ok</td>\n",
       "    </tr>\n",
       "    <tr>\n",
       "      <th>9</th>\n",
       "      <td>0</td>\n",
       "      <td>2188.756445</td>\n",
       "      <td>41</td>\n",
       "      <td>среднее</td>\n",
       "      <td>1</td>\n",
       "      <td>женат / замужем</td>\n",
       "      <td>0</td>\n",
       "      <td>M</td>\n",
       "      <td>сотрудник</td>\n",
       "      <td>0</td>\n",
       "      <td>144425.938277</td>\n",
       "      <td>покупка жилья для семьи</td>\n",
       "      <td>ok</td>\n",
       "    </tr>\n",
       "  </tbody>\n",
       "</table>\n",
       "</div>"
      ],
      "text/plain": [
       "   children  days_employed  dob_years education  education_id  \\\n",
       "0         1    8437.673028         42    высшее             0   \n",
       "1         1    4024.803754         36   среднее             1   \n",
       "2         0    5623.422610         33   Среднее             1   \n",
       "3         3    4124.747207         32   среднее             1   \n",
       "4         0  340266.072047         53   среднее             1   \n",
       "5         0     926.185831         27    высшее             0   \n",
       "6         0    2879.202052         43    высшее             0   \n",
       "7         0     152.779569         50   СРЕДНЕЕ             1   \n",
       "8         2    6929.865299         35    ВЫСШЕЕ             0   \n",
       "9         0    2188.756445         41   среднее             1   \n",
       "\n",
       "      family_status  family_status_id gender income_type  debt   total_income  \\\n",
       "0   женат / замужем                 0      F   сотрудник     0  253875.639453   \n",
       "1   женат / замужем                 0      F   сотрудник     0  112080.014102   \n",
       "2   женат / замужем                 0      M   сотрудник     0  145885.952297   \n",
       "3   женат / замужем                 0      M   сотрудник     0  267628.550329   \n",
       "4  гражданский брак                 1      F   пенсионер     0  158616.077870   \n",
       "5  гражданский брак                 1      M   компаньон     0  255763.565419   \n",
       "6   женат / замужем                 0      F   компаньон     0  240525.971920   \n",
       "7   женат / замужем                 0      M   сотрудник     0  135823.934197   \n",
       "8  гражданский брак                 1      F   сотрудник     0   95856.832424   \n",
       "9   женат / замужем                 0      M   сотрудник     0  144425.938277   \n",
       "\n",
       "                      purpose data_category  \n",
       "0               покупка жилья            ok  \n",
       "1     приобретение автомобиля            ok  \n",
       "2               покупка жилья            ok  \n",
       "3  дополнительное образование            ok  \n",
       "4             сыграть свадьбу      аномалия  \n",
       "5               покупка жилья            ok  \n",
       "6           операции с жильем            ok  \n",
       "7                 образование            ok  \n",
       "8       на проведение свадьбы            ok  \n",
       "9     покупка жилья для семьи            ok  "
      ]
     },
     "execution_count": 16,
     "metadata": {},
     "output_type": "execute_result"
    }
   ],
   "source": [
    "# проверяю, произошло ли изменение значения функции day_category и отрицательных значений на абсолютные\n",
    "df.head(10)"
   ]
  },
  {
   "cell_type": "markdown",
   "id": "46d014cb",
   "metadata": {},
   "source": [
    "Проверим, в каких категориях заявок встречаются аномальные данные:"
   ]
  },
  {
   "cell_type": "code",
   "execution_count": 17,
   "id": "3dd94fcf",
   "metadata": {},
   "outputs": [
    {
     "data": {
      "text/html": [
       "<div>\n",
       "<style scoped>\n",
       "    .dataframe tbody tr th:only-of-type {\n",
       "        vertical-align: middle;\n",
       "    }\n",
       "\n",
       "    .dataframe tbody tr th {\n",
       "        vertical-align: top;\n",
       "    }\n",
       "\n",
       "    .dataframe thead tr th {\n",
       "        text-align: left;\n",
       "    }\n",
       "\n",
       "    .dataframe thead tr:last-of-type th {\n",
       "        text-align: right;\n",
       "    }\n",
       "</style>\n",
       "<table border=\"1\" class=\"dataframe\">\n",
       "  <thead>\n",
       "    <tr>\n",
       "      <th></th>\n",
       "      <th colspan=\"2\" halign=\"left\">days_employed</th>\n",
       "    </tr>\n",
       "    <tr>\n",
       "      <th></th>\n",
       "      <th>median</th>\n",
       "      <th>count</th>\n",
       "    </tr>\n",
       "    <tr>\n",
       "      <th>income_type</th>\n",
       "      <th></th>\n",
       "      <th></th>\n",
       "    </tr>\n",
       "  </thead>\n",
       "  <tbody>\n",
       "    <tr>\n",
       "      <th>безработный</th>\n",
       "      <td>366413.652744</td>\n",
       "      <td>2</td>\n",
       "    </tr>\n",
       "    <tr>\n",
       "      <th>в декрете</th>\n",
       "      <td>3296.759962</td>\n",
       "      <td>1</td>\n",
       "    </tr>\n",
       "    <tr>\n",
       "      <th>госслужащий</th>\n",
       "      <td>2689.368353</td>\n",
       "      <td>1312</td>\n",
       "    </tr>\n",
       "    <tr>\n",
       "      <th>компаньон</th>\n",
       "      <td>1547.382223</td>\n",
       "      <td>4577</td>\n",
       "    </tr>\n",
       "    <tr>\n",
       "      <th>пенсионер</th>\n",
       "      <td>365213.306266</td>\n",
       "      <td>3443</td>\n",
       "    </tr>\n",
       "    <tr>\n",
       "      <th>предприниматель</th>\n",
       "      <td>520.848083</td>\n",
       "      <td>1</td>\n",
       "    </tr>\n",
       "    <tr>\n",
       "      <th>сотрудник</th>\n",
       "      <td>1574.202821</td>\n",
       "      <td>10014</td>\n",
       "    </tr>\n",
       "    <tr>\n",
       "      <th>студент</th>\n",
       "      <td>578.751554</td>\n",
       "      <td>1</td>\n",
       "    </tr>\n",
       "  </tbody>\n",
       "</table>\n",
       "</div>"
      ],
      "text/plain": [
       "                 days_employed       \n",
       "                        median  count\n",
       "income_type                          \n",
       "безработный      366413.652744      2\n",
       "в декрете          3296.759962      1\n",
       "госслужащий        2689.368353   1312\n",
       "компаньон          1547.382223   4577\n",
       "пенсионер        365213.306266   3443\n",
       "предприниматель     520.848083      1\n",
       "сотрудник          1574.202821  10014\n",
       "студент             578.751554      1"
      ]
     },
     "execution_count": 17,
     "metadata": {},
     "output_type": "execute_result"
    }
   ],
   "source": [
    "# сгруппирую данные по income_type и вычислю медианное значение трудового стажа по каждому типу занятости income_type\n",
    "df.groupby(['income_type']).agg({'days_employed': ['median','count']})"
   ]
  },
  {
   "cell_type": "markdown",
   "id": "500178f5",
   "metadata": {},
   "source": [
    "Как видно из полученной таблицы, анамальные значения содержатся в строках с типом занятости безработный и пенсионер. \\\n",
    "Сверим, все ли значения попали в выборку."
   ]
  },
  {
   "cell_type": "code",
   "execution_count": 18,
   "id": "c3d71e5d",
   "metadata": {},
   "outputs": [
    {
     "data": {
      "text/plain": [
       "сотрудник          11119\n",
       "компаньон           5085\n",
       "пенсионер           3856\n",
       "госслужащий         1459\n",
       "безработный            2\n",
       "предприниматель        2\n",
       "студент                1\n",
       "в декрете              1\n",
       "Name: income_type, dtype: int64"
      ]
     },
     "execution_count": 18,
     "metadata": {},
     "output_type": "execute_result"
    }
   ],
   "source": [
    "# вычисляю количество заявок по каждому типу занятости\n",
    "df.income_type.value_counts()"
   ]
  },
  {
   "cell_type": "markdown",
   "id": "0e9d96cb",
   "metadata": {},
   "source": [
    "Сравнивая две полученные таблицы, видно, что часть строк не вошла в таблицу с группировкой вследствие пропущенных значений в `days_employed`.\n",
    "\n",
    "Рассмотрим возможность замены аномальных значений медианным значением, вычисленным по типу занятости и полу.\n",
    "Для начала посмотрим, есть ли в категориях \"пенсионеры\" какие-либо строки с **ненулевым корректным** стажем (строк категории \"безработный\" всего 2, заменить на медианное значение аномалии в строках не представляется возможным)"
   ]
  },
  {
   "cell_type": "code",
   "execution_count": 19,
   "id": "fcd1f6f3",
   "metadata": {},
   "outputs": [
    {
     "data": {
      "text/html": [
       "<div>\n",
       "<style scoped>\n",
       "    .dataframe tbody tr th:only-of-type {\n",
       "        vertical-align: middle;\n",
       "    }\n",
       "\n",
       "    .dataframe tbody tr th {\n",
       "        vertical-align: top;\n",
       "    }\n",
       "\n",
       "    .dataframe thead tr th {\n",
       "        text-align: left;\n",
       "    }\n",
       "\n",
       "    .dataframe thead tr:last-of-type th {\n",
       "        text-align: right;\n",
       "    }\n",
       "</style>\n",
       "<table border=\"1\" class=\"dataframe\">\n",
       "  <thead>\n",
       "    <tr>\n",
       "      <th></th>\n",
       "      <th colspan=\"2\" halign=\"left\">days_employed</th>\n",
       "    </tr>\n",
       "    <tr>\n",
       "      <th></th>\n",
       "      <th>median</th>\n",
       "      <th>count</th>\n",
       "    </tr>\n",
       "    <tr>\n",
       "      <th>income_type</th>\n",
       "      <th></th>\n",
       "      <th></th>\n",
       "    </tr>\n",
       "  </thead>\n",
       "  <tbody>\n",
       "    <tr>\n",
       "      <th>в декрете</th>\n",
       "      <td>3296.759962</td>\n",
       "      <td>1</td>\n",
       "    </tr>\n",
       "    <tr>\n",
       "      <th>госслужащий</th>\n",
       "      <td>2689.368353</td>\n",
       "      <td>1312</td>\n",
       "    </tr>\n",
       "    <tr>\n",
       "      <th>компаньон</th>\n",
       "      <td>1547.382223</td>\n",
       "      <td>4577</td>\n",
       "    </tr>\n",
       "    <tr>\n",
       "      <th>предприниматель</th>\n",
       "      <td>520.848083</td>\n",
       "      <td>1</td>\n",
       "    </tr>\n",
       "    <tr>\n",
       "      <th>сотрудник</th>\n",
       "      <td>1574.202821</td>\n",
       "      <td>10014</td>\n",
       "    </tr>\n",
       "    <tr>\n",
       "      <th>студент</th>\n",
       "      <td>578.751554</td>\n",
       "      <td>1</td>\n",
       "    </tr>\n",
       "  </tbody>\n",
       "</table>\n",
       "</div>"
      ],
      "text/plain": [
       "                days_employed       \n",
       "                       median  count\n",
       "income_type                         \n",
       "в декрете         3296.759962      1\n",
       "госслужащий       2689.368353   1312\n",
       "компаньон         1547.382223   4577\n",
       "предприниматель    520.848083      1\n",
       "сотрудник         1574.202821  10014\n",
       "студент            578.751554      1"
      ]
     },
     "execution_count": 19,
     "metadata": {},
     "output_type": "execute_result"
    }
   ],
   "source": [
    "# вычисляем количество заявок с ненулевым значением в 'days_employed' и медианное значение \n",
    "df[df['data_category'] == 'ok'].groupby('income_type').agg({'days_employed': ['median','count']})"
   ]
  },
  {
   "cell_type": "markdown",
   "id": "ba739a63",
   "metadata": {},
   "source": [
    "Исходя из данной таблицы можно сделать вывод, что никаких корректных данных о стаже работы клиентов с типом занятости \"пенсионер\" и \"безработный\" нет. Заменять аномальные значения на медианные значения стажа работы по всему столбцу - не корректно. \n",
    "\n",
    "Поскольку столбец `income_type` содержит большое количество артефактов и не нужен для решения текущих задач проекта, принимаю решению удалить данный столбец из датафрейма."
   ]
  },
  {
   "cell_type": "code",
   "execution_count": 20,
   "id": "7807e99c",
   "metadata": {},
   "outputs": [],
   "source": [
    "# удаляю столбец стажа работы\n",
    "df.drop(['days_employed','data_category'], axis=1, inplace=True)"
   ]
  },
  {
   "cell_type": "code",
   "execution_count": 21,
   "id": "3f012c8f",
   "metadata": {},
   "outputs": [
    {
     "data": {
      "text/html": [
       "<div>\n",
       "<style scoped>\n",
       "    .dataframe tbody tr th:only-of-type {\n",
       "        vertical-align: middle;\n",
       "    }\n",
       "\n",
       "    .dataframe tbody tr th {\n",
       "        vertical-align: top;\n",
       "    }\n",
       "\n",
       "    .dataframe thead th {\n",
       "        text-align: right;\n",
       "    }\n",
       "</style>\n",
       "<table border=\"1\" class=\"dataframe\">\n",
       "  <thead>\n",
       "    <tr style=\"text-align: right;\">\n",
       "      <th></th>\n",
       "      <th>children</th>\n",
       "      <th>dob_years</th>\n",
       "      <th>education</th>\n",
       "      <th>education_id</th>\n",
       "      <th>family_status</th>\n",
       "      <th>family_status_id</th>\n",
       "      <th>gender</th>\n",
       "      <th>income_type</th>\n",
       "      <th>debt</th>\n",
       "      <th>total_income</th>\n",
       "      <th>purpose</th>\n",
       "    </tr>\n",
       "  </thead>\n",
       "  <tbody>\n",
       "    <tr>\n",
       "      <th>0</th>\n",
       "      <td>1</td>\n",
       "      <td>42</td>\n",
       "      <td>высшее</td>\n",
       "      <td>0</td>\n",
       "      <td>женат / замужем</td>\n",
       "      <td>0</td>\n",
       "      <td>F</td>\n",
       "      <td>сотрудник</td>\n",
       "      <td>0</td>\n",
       "      <td>253875.639453</td>\n",
       "      <td>покупка жилья</td>\n",
       "    </tr>\n",
       "    <tr>\n",
       "      <th>1</th>\n",
       "      <td>1</td>\n",
       "      <td>36</td>\n",
       "      <td>среднее</td>\n",
       "      <td>1</td>\n",
       "      <td>женат / замужем</td>\n",
       "      <td>0</td>\n",
       "      <td>F</td>\n",
       "      <td>сотрудник</td>\n",
       "      <td>0</td>\n",
       "      <td>112080.014102</td>\n",
       "      <td>приобретение автомобиля</td>\n",
       "    </tr>\n",
       "    <tr>\n",
       "      <th>2</th>\n",
       "      <td>0</td>\n",
       "      <td>33</td>\n",
       "      <td>Среднее</td>\n",
       "      <td>1</td>\n",
       "      <td>женат / замужем</td>\n",
       "      <td>0</td>\n",
       "      <td>M</td>\n",
       "      <td>сотрудник</td>\n",
       "      <td>0</td>\n",
       "      <td>145885.952297</td>\n",
       "      <td>покупка жилья</td>\n",
       "    </tr>\n",
       "    <tr>\n",
       "      <th>3</th>\n",
       "      <td>3</td>\n",
       "      <td>32</td>\n",
       "      <td>среднее</td>\n",
       "      <td>1</td>\n",
       "      <td>женат / замужем</td>\n",
       "      <td>0</td>\n",
       "      <td>M</td>\n",
       "      <td>сотрудник</td>\n",
       "      <td>0</td>\n",
       "      <td>267628.550329</td>\n",
       "      <td>дополнительное образование</td>\n",
       "    </tr>\n",
       "    <tr>\n",
       "      <th>4</th>\n",
       "      <td>0</td>\n",
       "      <td>53</td>\n",
       "      <td>среднее</td>\n",
       "      <td>1</td>\n",
       "      <td>гражданский брак</td>\n",
       "      <td>1</td>\n",
       "      <td>F</td>\n",
       "      <td>пенсионер</td>\n",
       "      <td>0</td>\n",
       "      <td>158616.077870</td>\n",
       "      <td>сыграть свадьбу</td>\n",
       "    </tr>\n",
       "  </tbody>\n",
       "</table>\n",
       "</div>"
      ],
      "text/plain": [
       "   children  dob_years education  education_id     family_status  \\\n",
       "0         1         42    высшее             0   женат / замужем   \n",
       "1         1         36   среднее             1   женат / замужем   \n",
       "2         0         33   Среднее             1   женат / замужем   \n",
       "3         3         32   среднее             1   женат / замужем   \n",
       "4         0         53   среднее             1  гражданский брак   \n",
       "\n",
       "   family_status_id gender income_type  debt   total_income  \\\n",
       "0                 0      F   сотрудник     0  253875.639453   \n",
       "1                 0      F   сотрудник     0  112080.014102   \n",
       "2                 0      M   сотрудник     0  145885.952297   \n",
       "3                 0      M   сотрудник     0  267628.550329   \n",
       "4                 1      F   пенсионер     0  158616.077870   \n",
       "\n",
       "                      purpose  \n",
       "0               покупка жилья  \n",
       "1     приобретение автомобиля  \n",
       "2               покупка жилья  \n",
       "3  дополнительное образование  \n",
       "4             сыграть свадьбу  "
      ]
     },
     "execution_count": 21,
     "metadata": {},
     "output_type": "execute_result"
    }
   ],
   "source": [
    "# проверяю корректность работы функции\n",
    "df.head()"
   ]
  },
  {
   "cell_type": "code",
   "execution_count": 22,
   "id": "36314f70",
   "metadata": {},
   "outputs": [
    {
     "name": "stdout",
     "output_type": "stream",
     "text": [
      "<class 'pandas.core.frame.DataFrame'>\n",
      "RangeIndex: 21525 entries, 0 to 21524\n",
      "Data columns (total 11 columns):\n",
      " #   Column            Non-Null Count  Dtype  \n",
      "---  ------            --------------  -----  \n",
      " 0   children          21525 non-null  int64  \n",
      " 1   dob_years         21525 non-null  int64  \n",
      " 2   education         21525 non-null  object \n",
      " 3   education_id      21525 non-null  int64  \n",
      " 4   family_status     21525 non-null  object \n",
      " 5   family_status_id  21525 non-null  int64  \n",
      " 6   gender            21525 non-null  object \n",
      " 7   income_type       21525 non-null  object \n",
      " 8   debt              21525 non-null  int64  \n",
      " 9   total_income      19351 non-null  float64\n",
      " 10  purpose           21525 non-null  object \n",
      "dtypes: float64(1), int64(5), object(5)\n",
      "memory usage: 1.8+ MB\n"
     ]
    }
   ],
   "source": [
    "# получаю информацию об откорректированном датафрейме\n",
    "df.info()"
   ]
  },
  {
   "cell_type": "markdown",
   "id": "5ff23e9e",
   "metadata": {},
   "source": [
    "Теперь просмотрим стобцы `education` и `gender` на предмет аномалий и неявных дубликатов."
   ]
  },
  {
   "cell_type": "code",
   "execution_count": 23,
   "id": "b2bdc8ed",
   "metadata": {},
   "outputs": [
    {
     "data": {
      "text/plain": [
       "array(['высшее', 'среднее', 'Среднее', 'СРЕДНЕЕ', 'ВЫСШЕЕ',\n",
       "       'неоконченное высшее', 'начальное', 'Высшее',\n",
       "       'НЕОКОНЧЕННОЕ ВЫСШЕЕ', 'Неоконченное высшее', 'НАЧАЛЬНОЕ',\n",
       "       'Начальное', 'Ученая степень', 'УЧЕНАЯ СТЕПЕНЬ', 'ученая степень'],\n",
       "      dtype=object)"
      ]
     },
     "execution_count": 23,
     "metadata": {},
     "output_type": "execute_result"
    }
   ],
   "source": [
    "# уникальные значения в столбце 'education'\n",
    "df['education'].unique()"
   ]
  },
  {
   "cell_type": "markdown",
   "id": "c276ca42",
   "metadata": {},
   "source": [
    "Как видно из полученного массива, в столбце нет артефактов, но есть неявные дубликаты, их необходимо откорректировать"
   ]
  },
  {
   "cell_type": "code",
   "execution_count": 24,
   "id": "cd4191be",
   "metadata": {},
   "outputs": [
    {
     "data": {
      "text/plain": [
       "array(['высшее', 'среднее', 'неоконченное высшее', 'начальное',\n",
       "       'ученая степень'], dtype=object)"
      ]
     },
     "execution_count": 24,
     "metadata": {},
     "output_type": "execute_result"
    }
   ],
   "source": [
    "# привожу к одному регистру все виды образования в столбце 'education'\n",
    "df['education'] = df['education'].str.lower()\n",
    "# проверяю на наличие дубликатов\n",
    "df['education'].unique()"
   ]
  },
  {
   "cell_type": "markdown",
   "id": "b89348e6",
   "metadata": {},
   "source": [
    "Аналогично проверим столбец `gender`"
   ]
  },
  {
   "cell_type": "code",
   "execution_count": 25,
   "id": "e7d93db3",
   "metadata": {},
   "outputs": [
    {
     "data": {
      "text/plain": [
       "array(['F', 'M', 'XNA'], dtype=object)"
      ]
     },
     "execution_count": 25,
     "metadata": {},
     "output_type": "execute_result"
    }
   ],
   "source": [
    "# уникальные значения в столбце 'gender'\n",
    "df['gender'].unique()"
   ]
  },
  {
   "cell_type": "markdown",
   "id": "cdfb529f",
   "metadata": {},
   "source": [
    "В массиве видим аномалию 'XNA'. Проверим сколько строк в датафрейме с таким признаком:"
   ]
  },
  {
   "cell_type": "code",
   "execution_count": 26,
   "id": "7b987355",
   "metadata": {},
   "outputs": [
    {
     "data": {
      "text/html": [
       "<div>\n",
       "<style scoped>\n",
       "    .dataframe tbody tr th:only-of-type {\n",
       "        vertical-align: middle;\n",
       "    }\n",
       "\n",
       "    .dataframe tbody tr th {\n",
       "        vertical-align: top;\n",
       "    }\n",
       "\n",
       "    .dataframe thead th {\n",
       "        text-align: right;\n",
       "    }\n",
       "</style>\n",
       "<table border=\"1\" class=\"dataframe\">\n",
       "  <thead>\n",
       "    <tr style=\"text-align: right;\">\n",
       "      <th></th>\n",
       "      <th>children</th>\n",
       "      <th>dob_years</th>\n",
       "      <th>education</th>\n",
       "      <th>education_id</th>\n",
       "      <th>family_status</th>\n",
       "      <th>family_status_id</th>\n",
       "      <th>gender</th>\n",
       "      <th>income_type</th>\n",
       "      <th>debt</th>\n",
       "      <th>total_income</th>\n",
       "      <th>purpose</th>\n",
       "    </tr>\n",
       "  </thead>\n",
       "  <tbody>\n",
       "    <tr>\n",
       "      <th>10701</th>\n",
       "      <td>0</td>\n",
       "      <td>24</td>\n",
       "      <td>неоконченное высшее</td>\n",
       "      <td>2</td>\n",
       "      <td>гражданский брак</td>\n",
       "      <td>1</td>\n",
       "      <td>XNA</td>\n",
       "      <td>компаньон</td>\n",
       "      <td>0</td>\n",
       "      <td>203905.157261</td>\n",
       "      <td>покупка недвижимости</td>\n",
       "    </tr>\n",
       "  </tbody>\n",
       "</table>\n",
       "</div>"
      ],
      "text/plain": [
       "       children  dob_years            education  education_id  \\\n",
       "10701         0         24  неоконченное высшее             2   \n",
       "\n",
       "          family_status  family_status_id gender income_type  debt  \\\n",
       "10701  гражданский брак                 1    XNA   компаньон     0   \n",
       "\n",
       "        total_income               purpose  \n",
       "10701  203905.157261  покупка недвижимости  "
      ]
     },
     "execution_count": 26,
     "metadata": {},
     "output_type": "execute_result"
    }
   ],
   "source": [
    "# нахождение строк с идентификатором 'gender' == 'XNA'\n",
    "df[df['gender'] == 'XNA']"
   ]
  },
  {
   "cell_type": "markdown",
   "id": "7de33020",
   "metadata": {},
   "source": [
    "Удаление данной строки из датафрейма не будет имееть существенного влияния на анализ, поэтому удалим эту строку из датафрейма:"
   ]
  },
  {
   "cell_type": "code",
   "execution_count": 27,
   "id": "dc78eac9",
   "metadata": {},
   "outputs": [
    {
     "data": {
      "text/plain": [
       "array(['F', 'M'], dtype=object)"
      ]
     },
     "execution_count": 27,
     "metadata": {},
     "output_type": "execute_result"
    }
   ],
   "source": [
    "# удаляю строку\n",
    "df = df.loc[df['gender'] != 'XNA']\n",
    "# проверка\n",
    "df['gender'].unique()"
   ]
  },
  {
   "cell_type": "markdown",
   "id": "10111e7d",
   "metadata": {},
   "source": [
    "Теперь проверим на аномалии столбец `family_status`"
   ]
  },
  {
   "cell_type": "code",
   "execution_count": 28,
   "id": "5441d8ed",
   "metadata": {},
   "outputs": [
    {
     "data": {
      "text/plain": [
       "array(['женат / замужем', 'гражданский брак', 'вдовец / вдова',\n",
       "       'в разводе', 'Не женат / не замужем'], dtype=object)"
      ]
     },
     "execution_count": 28,
     "metadata": {},
     "output_type": "execute_result"
    }
   ],
   "source": [
    "# поиск дубликатов в столбце 'family_status'\n",
    "df['family_status'].unique()"
   ]
  },
  {
   "cell_type": "markdown",
   "id": "0d5e9c3e",
   "metadata": {},
   "source": [
    "Аномалий и дубликатов в данном столбце нет."
   ]
  },
  {
   "cell_type": "markdown",
   "id": "caca7a62",
   "metadata": {},
   "source": [
    "Аналогично проверяем столбец `children`:"
   ]
  },
  {
   "cell_type": "code",
   "execution_count": 29,
   "id": "d57600d1",
   "metadata": {},
   "outputs": [
    {
     "data": {
      "text/plain": [
       "array([ 1,  0,  3,  2, -1,  4, 20,  5], dtype=int64)"
      ]
     },
     "execution_count": 29,
     "metadata": {},
     "output_type": "execute_result"
    }
   ],
   "source": [
    "# поиск аномалий и дубликатов в столбце 'children'\n",
    "df['children'].unique()"
   ]
  },
  {
   "cell_type": "markdown",
   "id": "57975140",
   "metadata": {},
   "source": [
    "В данном столбце имеется аномальное значение количества детей - \"-1\" и \"20\". Посмотрим сколько строк имеет такие аномалии."
   ]
  },
  {
   "cell_type": "code",
   "execution_count": 30,
   "id": "f3053874",
   "metadata": {},
   "outputs": [
    {
     "data": {
      "text/plain": [
       "47"
      ]
     },
     "execution_count": 30,
     "metadata": {},
     "output_type": "execute_result"
    }
   ],
   "source": [
    "# вычисляю количество строк со значением -1 в столбце 'children'\n",
    "df[df['children'] == -1]['children'].count()"
   ]
  },
  {
   "cell_type": "code",
   "execution_count": 31,
   "id": "3c0b45e4",
   "metadata": {},
   "outputs": [
    {
     "data": {
      "text/plain": [
       "76"
      ]
     },
     "execution_count": 31,
     "metadata": {},
     "output_type": "execute_result"
    }
   ],
   "source": [
    "# вычисляю количество строк со значением 20 в столбце 'children'\n",
    "df[df['children'] == 20]['children'].count()"
   ]
  },
  {
   "cell_type": "markdown",
   "id": "546af686",
   "metadata": {},
   "source": [
    "Общее количество строк c аномалиями составляет 1 процент от общего количества, поэтому можно удалить данные строки"
   ]
  },
  {
   "cell_type": "code",
   "execution_count": 32,
   "id": "0e4b6509",
   "metadata": {},
   "outputs": [],
   "source": [
    "# удаляю строки со значением -1 и 20 в столбце 'children'\n",
    "df = df[(df['children'] != -1) &\n",
    "        (df['children'] != 20)]"
   ]
  },
  {
   "cell_type": "code",
   "execution_count": 33,
   "id": "b11ba2e0",
   "metadata": {},
   "outputs": [
    {
     "data": {
      "text/plain": [
       "array([1, 0, 3, 2, 4, 5], dtype=int64)"
      ]
     },
     "execution_count": 33,
     "metadata": {},
     "output_type": "execute_result"
    }
   ],
   "source": [
    "# проверка\n",
    "df['children'].unique()"
   ]
  },
  {
   "cell_type": "markdown",
   "id": "fad7e9bf",
   "metadata": {},
   "source": [
    "Теперь проверим на аномалии столцы `dob_years`, `total_income`:"
   ]
  },
  {
   "cell_type": "code",
   "execution_count": 34,
   "id": "af649f69",
   "metadata": {},
   "outputs": [
    {
     "data": {
      "text/plain": [
       "<AxesSubplot:>"
      ]
     },
     "execution_count": 34,
     "metadata": {},
     "output_type": "execute_result"
    },
    {
     "data": {
      "image/png": "[encoded data removed]",
      "text/plain": [
       "<Figure size 432x288 with 1 Axes>"
      ]
     },
     "metadata": {
      "needs_background": "light"
     },
     "output_type": "display_data"
    }
   ],
   "source": [
    "df.boxplot('dob_years')"
   ]
  },
  {
   "cell_type": "code",
   "execution_count": 35,
   "id": "770ab098",
   "metadata": {},
   "outputs": [
    {
     "data": {
      "text/plain": [
       "<AxesSubplot:>"
      ]
     },
     "execution_count": 35,
     "metadata": {},
     "output_type": "execute_result"
    },
    {
     "data": {
      "image/png": "[encoded data removed]",
      "text/plain": [
       "<Figure size 432x288 with 1 Axes>"
      ]
     },
     "metadata": {
      "needs_background": "light"
     },
     "output_type": "display_data"
    }
   ],
   "source": [
    "df.boxplot('total_income')"
   ]
  },
  {
   "cell_type": "markdown",
   "id": "e8483386",
   "metadata": {},
   "source": [
    "На представленных диаграммах разброса данных по столбцам `total_income` и `dob_years` видно, что все значения находятся в пределах разумных значений.\n",
    "\n",
    "К столбцу `purpouse` вернемся в разделе поиска неявных дубликатов.\n",
    "\n",
    "По итогу проведенного анализа на артефакты делаю вывод, что аномальных значений больше в датафрейме нет. \\\n",
    "Можно приступать к корректировке пропущенных значений."
   ]
  },
  {
   "cell_type": "markdown",
   "id": "596ed4ae",
   "metadata": {},
   "source": [
    "## Заполнение пропусков в данных"
   ]
  },
  {
   "cell_type": "markdown",
   "id": "5c105f5b",
   "metadata": {},
   "source": [
    "Исходя из первоначального анализа датасета, знаем, что в столбце `total_income` имеются пропущенные значения. \\\n",
    "Пропущенные ячейки для количественных данных можно заменять на среднее, либо на медианное значение в столбце."
   ]
  },
  {
   "cell_type": "markdown",
   "id": "f35434bd",
   "metadata": {},
   "source": [
    "Использование среднего значения даст ненужное искажение в данных, что не позволит корректно провести анализ данных. Использование метода замены на медианное значение исключает данную проблему.\n",
    "\n",
    "К примеру, в столбце `total_income`:"
   ]
  },
  {
   "cell_type": "code",
   "execution_count": 36,
   "id": "27efc82c",
   "metadata": {},
   "outputs": [
    {
     "name": "stdout",
     "output_type": "stream",
     "text": [
      "Минимальное значение ежемесячного дохода: 20667\n",
      "Максимальное значение ежемесячного дохода: 2265604\n",
      "Среднее значение ежемесячного дохода: 167447\n",
      "Медианное значение ежемесячного дохода: 145018\n"
     ]
    }
   ],
   "source": [
    "# минимальное значение ежемесячного дохода\n",
    "print(f'Минимальное значение ежемесячного дохода: {df.total_income.min():.0f}') \n",
    "# максимальное значение ежемесячного дохода\n",
    "print(f'Максимальное значение ежемесячного дохода: {df.total_income.max():.0f}')\n",
    "# среднее значение ежемесячного дохода\n",
    "print(f'Среднее значение ежемесячного дохода: {df.total_income.mean():.0f}')\n",
    "# медианное значение ежемесячного дохода\n",
    "print(f'Медианное значение ежемесячного дохода: {df.total_income.median():.0f}')"
   ]
  },
  {
   "cell_type": "markdown",
   "id": "3e501e79",
   "metadata": {},
   "source": [
    "В столбце `total_income` произведем замену пустых значений на медианное значение по типу занятости, образованию и полу."
   ]
  },
  {
   "cell_type": "code",
   "execution_count": 37,
   "id": "8e4a1676",
   "metadata": {},
   "outputs": [],
   "source": [
    "# группирую датафрейм по типу занятости, образованию и полу\n",
    "# вычисляю медианное значение для каждой группы\n",
    "# провожу замену пропусковt\n",
    "df['total_income'] = df['total_income'].fillna(df.groupby(['income_type','education','gender'])['total_income'].transform('median'))"
   ]
  },
  {
   "cell_type": "code",
   "execution_count": 38,
   "id": "828e8197",
   "metadata": {},
   "outputs": [
    {
     "data": {
      "text/plain": [
       "children            0\n",
       "dob_years           0\n",
       "education           0\n",
       "education_id        0\n",
       "family_status       0\n",
       "family_status_id    0\n",
       "gender              0\n",
       "income_type         0\n",
       "debt                0\n",
       "total_income        1\n",
       "purpose             0\n",
       "dtype: int64"
      ]
     },
     "execution_count": 38,
     "metadata": {},
     "output_type": "execute_result"
    }
   ],
   "source": [
    "# проверяю, остались ли нулевые значения в столбцах\n",
    "df.isna().sum()"
   ]
  },
  {
   "cell_type": "markdown",
   "id": "6d16f651",
   "metadata": {},
   "source": [
    "Остался один пропуск в данных. Заменю его на медианное значение по всему столбцу `total_income`"
   ]
  },
  {
   "cell_type": "code",
   "execution_count": 39,
   "id": "069b04f0",
   "metadata": {},
   "outputs": [],
   "source": [
    "# провожу замену пропуска на медианное значение по столбцу total_income\n",
    "df['total_income'] = df['total_income'].fillna(df['total_income'].median())"
   ]
  },
  {
   "cell_type": "code",
   "execution_count": 40,
   "id": "92356e01",
   "metadata": {},
   "outputs": [
    {
     "data": {
      "text/plain": [
       "children            0\n",
       "dob_years           0\n",
       "education           0\n",
       "education_id        0\n",
       "family_status       0\n",
       "family_status_id    0\n",
       "gender              0\n",
       "income_type         0\n",
       "debt                0\n",
       "total_income        0\n",
       "purpose             0\n",
       "dtype: int64"
      ]
     },
     "execution_count": 40,
     "metadata": {},
     "output_type": "execute_result"
    }
   ],
   "source": [
    "# проверяю, остались ли нулевые значения в столбцах\n",
    "df.isna().sum()"
   ]
  },
  {
   "cell_type": "markdown",
   "id": "3d25ba7e",
   "metadata": {},
   "source": [
    "Пропусков данных в столбцах нет"
   ]
  },
  {
   "cell_type": "markdown",
   "id": "c3a97d03",
   "metadata": {},
   "source": [
    "## Изменение типов данных"
   ]
  },
  {
   "cell_type": "markdown",
   "id": "e3c7c441",
   "metadata": {},
   "source": [
    "В датафрейме столбец `total_income` содержит вещественный тип данных float,для удобства дальнейшего анализа приведем его к целочисленному типу int. Если бы столбец содержал артефакты (данные типа object), то пришлось бы использовать метод try - except. \\\n",
    "В данном случае использовать его не будем."
   ]
  },
  {
   "cell_type": "code",
   "execution_count": 41,
   "id": "5f08cead",
   "metadata": {},
   "outputs": [],
   "source": [
    "# замена типа данных с float на int в столбце 'total_income'\n",
    "df['total_income'] = df['total_income'].astype('int')"
   ]
  },
  {
   "cell_type": "code",
   "execution_count": 42,
   "id": "614fa24b",
   "metadata": {},
   "outputs": [
    {
     "data": {
      "text/html": [
       "<div>\n",
       "<style scoped>\n",
       "    .dataframe tbody tr th:only-of-type {\n",
       "        vertical-align: middle;\n",
       "    }\n",
       "\n",
       "    .dataframe tbody tr th {\n",
       "        vertical-align: top;\n",
       "    }\n",
       "\n",
       "    .dataframe thead th {\n",
       "        text-align: right;\n",
       "    }\n",
       "</style>\n",
       "<table border=\"1\" class=\"dataframe\">\n",
       "  <thead>\n",
       "    <tr style=\"text-align: right;\">\n",
       "      <th></th>\n",
       "      <th>children</th>\n",
       "      <th>dob_years</th>\n",
       "      <th>education</th>\n",
       "      <th>education_id</th>\n",
       "      <th>family_status</th>\n",
       "      <th>family_status_id</th>\n",
       "      <th>gender</th>\n",
       "      <th>income_type</th>\n",
       "      <th>debt</th>\n",
       "      <th>total_income</th>\n",
       "      <th>purpose</th>\n",
       "    </tr>\n",
       "  </thead>\n",
       "  <tbody>\n",
       "    <tr>\n",
       "      <th>0</th>\n",
       "      <td>1</td>\n",
       "      <td>42</td>\n",
       "      <td>высшее</td>\n",
       "      <td>0</td>\n",
       "      <td>женат / замужем</td>\n",
       "      <td>0</td>\n",
       "      <td>F</td>\n",
       "      <td>сотрудник</td>\n",
       "      <td>0</td>\n",
       "      <td>253875</td>\n",
       "      <td>покупка жилья</td>\n",
       "    </tr>\n",
       "    <tr>\n",
       "      <th>1</th>\n",
       "      <td>1</td>\n",
       "      <td>36</td>\n",
       "      <td>среднее</td>\n",
       "      <td>1</td>\n",
       "      <td>женат / замужем</td>\n",
       "      <td>0</td>\n",
       "      <td>F</td>\n",
       "      <td>сотрудник</td>\n",
       "      <td>0</td>\n",
       "      <td>112080</td>\n",
       "      <td>приобретение автомобиля</td>\n",
       "    </tr>\n",
       "    <tr>\n",
       "      <th>2</th>\n",
       "      <td>0</td>\n",
       "      <td>33</td>\n",
       "      <td>среднее</td>\n",
       "      <td>1</td>\n",
       "      <td>женат / замужем</td>\n",
       "      <td>0</td>\n",
       "      <td>M</td>\n",
       "      <td>сотрудник</td>\n",
       "      <td>0</td>\n",
       "      <td>145885</td>\n",
       "      <td>покупка жилья</td>\n",
       "    </tr>\n",
       "    <tr>\n",
       "      <th>3</th>\n",
       "      <td>3</td>\n",
       "      <td>32</td>\n",
       "      <td>среднее</td>\n",
       "      <td>1</td>\n",
       "      <td>женат / замужем</td>\n",
       "      <td>0</td>\n",
       "      <td>M</td>\n",
       "      <td>сотрудник</td>\n",
       "      <td>0</td>\n",
       "      <td>267628</td>\n",
       "      <td>дополнительное образование</td>\n",
       "    </tr>\n",
       "    <tr>\n",
       "      <th>4</th>\n",
       "      <td>0</td>\n",
       "      <td>53</td>\n",
       "      <td>среднее</td>\n",
       "      <td>1</td>\n",
       "      <td>гражданский брак</td>\n",
       "      <td>1</td>\n",
       "      <td>F</td>\n",
       "      <td>пенсионер</td>\n",
       "      <td>0</td>\n",
       "      <td>158616</td>\n",
       "      <td>сыграть свадьбу</td>\n",
       "    </tr>\n",
       "  </tbody>\n",
       "</table>\n",
       "</div>"
      ],
      "text/plain": [
       "   children  dob_years education  education_id     family_status  \\\n",
       "0         1         42    высшее             0   женат / замужем   \n",
       "1         1         36   среднее             1   женат / замужем   \n",
       "2         0         33   среднее             1   женат / замужем   \n",
       "3         3         32   среднее             1   женат / замужем   \n",
       "4         0         53   среднее             1  гражданский брак   \n",
       "\n",
       "   family_status_id gender income_type  debt  total_income  \\\n",
       "0                 0      F   сотрудник     0        253875   \n",
       "1                 0      F   сотрудник     0        112080   \n",
       "2                 0      M   сотрудник     0        145885   \n",
       "3                 0      M   сотрудник     0        267628   \n",
       "4                 1      F   пенсионер     0        158616   \n",
       "\n",
       "                      purpose  \n",
       "0               покупка жилья  \n",
       "1     приобретение автомобиля  \n",
       "2               покупка жилья  \n",
       "3  дополнительное образование  \n",
       "4             сыграть свадьбу  "
      ]
     },
     "execution_count": 42,
     "metadata": {},
     "output_type": "execute_result"
    }
   ],
   "source": [
    "# проверка\n",
    "df.head()"
   ]
  },
  {
   "cell_type": "markdown",
   "id": "b4c20840",
   "metadata": {},
   "source": [
    "## Удаление дубликатов"
   ]
  },
  {
   "cell_type": "markdown",
   "id": "c756bdf5",
   "metadata": {},
   "source": [
    "В предыдущих разделах исследования часть неявных дубликатов уже была устранена. \\\n",
    "Проверим датафрейм на наличие явных и оставшихся неявных дубликатов."
   ]
  },
  {
   "cell_type": "markdown",
   "id": "589d27f0",
   "metadata": {},
   "source": [
    "### Удаление явных дубликатов"
   ]
  },
  {
   "cell_type": "code",
   "execution_count": 43,
   "id": "0d0865d8",
   "metadata": {},
   "outputs": [
    {
     "data": {
      "text/plain": [
       "71"
      ]
     },
     "execution_count": 43,
     "metadata": {},
     "output_type": "execute_result"
    }
   ],
   "source": [
    "# нахожу сумму явных дубликатов\n",
    "df.duplicated().sum()"
   ]
  },
  {
   "cell_type": "markdown",
   "id": "3e0082d8",
   "metadata": {},
   "source": [
    "В датафрейме имеется 71 явный дубликат. Удалим их из датафрейма."
   ]
  },
  {
   "cell_type": "code",
   "execution_count": 44,
   "id": "4d01ef41",
   "metadata": {},
   "outputs": [],
   "source": [
    "# удаляю явные дубликаты из датафрейма\n",
    "df = df.drop_duplicates().reset_index(drop=True)"
   ]
  },
  {
   "cell_type": "code",
   "execution_count": 45,
   "id": "229d0f45",
   "metadata": {},
   "outputs": [
    {
     "name": "stdout",
     "output_type": "stream",
     "text": [
      "<class 'pandas.core.frame.DataFrame'>\n",
      "RangeIndex: 21330 entries, 0 to 21329\n",
      "Data columns (total 11 columns):\n",
      " #   Column            Non-Null Count  Dtype \n",
      "---  ------            --------------  ----- \n",
      " 0   children          21330 non-null  int64 \n",
      " 1   dob_years         21330 non-null  int64 \n",
      " 2   education         21330 non-null  object\n",
      " 3   education_id      21330 non-null  int64 \n",
      " 4   family_status     21330 non-null  object\n",
      " 5   family_status_id  21330 non-null  int64 \n",
      " 6   gender            21330 non-null  object\n",
      " 7   income_type       21330 non-null  object\n",
      " 8   debt              21330 non-null  int64 \n",
      " 9   total_income      21330 non-null  int32 \n",
      " 10  purpose           21330 non-null  object\n",
      "dtypes: int32(1), int64(5), object(5)\n",
      "memory usage: 1.7+ MB\n"
     ]
    }
   ],
   "source": [
    "# анализирую новый размер датафрейма\n",
    "df.info()"
   ]
  },
  {
   "cell_type": "markdown",
   "id": "e97178a0",
   "metadata": {},
   "source": [
    "### Удаление невных дубликатов"
   ]
  },
  {
   "cell_type": "code",
   "execution_count": 46,
   "id": "aa295e4a",
   "metadata": {},
   "outputs": [
    {
     "data": {
      "text/plain": [
       "array(['покупка жилья', 'приобретение автомобиля',\n",
       "       'дополнительное образование', 'сыграть свадьбу',\n",
       "       'операции с жильем', 'образование', 'на проведение свадьбы',\n",
       "       'покупка жилья для семьи', 'покупка недвижимости',\n",
       "       'покупка коммерческой недвижимости', 'покупка жилой недвижимости',\n",
       "       'строительство собственной недвижимости', 'недвижимость',\n",
       "       'строительство недвижимости', 'на покупку подержанного автомобиля',\n",
       "       'на покупку своего автомобиля',\n",
       "       'операции с коммерческой недвижимостью',\n",
       "       'строительство жилой недвижимости', 'жилье',\n",
       "       'операции со своей недвижимостью', 'автомобили',\n",
       "       'заняться образованием', 'сделка с подержанным автомобилем',\n",
       "       'получение образования', 'автомобиль', 'свадьба',\n",
       "       'получение дополнительного образования', 'покупка своего жилья',\n",
       "       'операции с недвижимостью', 'получение высшего образования',\n",
       "       'свой автомобиль', 'сделка с автомобилем',\n",
       "       'профильное образование', 'высшее образование',\n",
       "       'покупка жилья для сдачи', 'на покупку автомобиля', 'ремонт жилью',\n",
       "       'заняться высшим образованием'], dtype=object)"
      ]
     },
     "execution_count": 46,
     "metadata": {},
     "output_type": "execute_result"
    }
   ],
   "source": [
    "# поиск дубликатов в столбце 'purpose'\n",
    "df['purpose'].unique()"
   ]
  },
  {
   "cell_type": "markdown",
   "id": "bc685732",
   "metadata": {},
   "source": [
    "В данном стобце имеется большое количество разных целей. Необходимо их привести к единому виду (категоризировать)."
   ]
  },
  {
   "cell_type": "markdown",
   "id": "f2109960",
   "metadata": {},
   "source": [
    "В целом по всему датафрейму явные и неявные дубликаты устранены. \\\n",
    "Основной причиной возникновения явных дубликатов является человеческий фактор. Клиент мог подать заявку на кредит дважды. \\\n",
    "Возникновение невяных дубликатов возможно из-за технологической ошибки системы. К примеру, в столбце `education` все значения написаны одинаково, но в разном регистре."
   ]
  },
  {
   "cell_type": "markdown",
   "id": "d0c50063",
   "metadata": {},
   "source": [
    "## Категоризация целей кредита"
   ]
  },
  {
   "cell_type": "markdown",
   "id": "9fb42083",
   "metadata": {},
   "source": [
    "Напишем функцию, которая категоризирует каждую цель. \\\n",
    "На основании данных из столбца `purpose` будет сформирован новый столбец `purpose_category`, в который войдут следующие категории:\n",
    "* 'операции с автомобилем',\n",
    "* 'операции с недвижимостью',\n",
    "* 'проведение свадьбы',\n",
    "* 'получение образования'."
   ]
  },
  {
   "cell_type": "code",
   "execution_count": 47,
   "id": "c1409d8a",
   "metadata": {},
   "outputs": [],
   "source": [
    "# функция распределения цели по категориям\n",
    "def categorization_purp(purpose):\n",
    "    \n",
    "    try:  \n",
    "        if 'автомобил' in purpose:\n",
    "            return 'операции с автомобилем'\n",
    "    \n",
    "        if ('недвижимост' in purpose or \n",
    "            'жиль' in purpose):\n",
    "            return 'операции с недвижимостью'\n",
    "    \n",
    "        if 'свадь' in purpose:\n",
    "            return 'проведение свадьбы'\n",
    "    \n",
    "        if 'образован' in purpose:\n",
    "            return 'получение образования'\n",
    "    except:\n",
    "        return 'нет категории'"
   ]
  },
  {
   "cell_type": "code",
   "execution_count": 48,
   "id": "2a1418e0",
   "metadata": {},
   "outputs": [
    {
     "data": {
      "text/html": [
       "<div>\n",
       "<style scoped>\n",
       "    .dataframe tbody tr th:only-of-type {\n",
       "        vertical-align: middle;\n",
       "    }\n",
       "\n",
       "    .dataframe tbody tr th {\n",
       "        vertical-align: top;\n",
       "    }\n",
       "\n",
       "    .dataframe thead th {\n",
       "        text-align: right;\n",
       "    }\n",
       "</style>\n",
       "<table border=\"1\" class=\"dataframe\">\n",
       "  <thead>\n",
       "    <tr style=\"text-align: right;\">\n",
       "      <th></th>\n",
       "      <th>children</th>\n",
       "      <th>dob_years</th>\n",
       "      <th>education</th>\n",
       "      <th>education_id</th>\n",
       "      <th>family_status</th>\n",
       "      <th>family_status_id</th>\n",
       "      <th>gender</th>\n",
       "      <th>income_type</th>\n",
       "      <th>debt</th>\n",
       "      <th>total_income</th>\n",
       "      <th>purpose</th>\n",
       "      <th>purpose_category</th>\n",
       "    </tr>\n",
       "  </thead>\n",
       "  <tbody>\n",
       "    <tr>\n",
       "      <th>0</th>\n",
       "      <td>1</td>\n",
       "      <td>42</td>\n",
       "      <td>высшее</td>\n",
       "      <td>0</td>\n",
       "      <td>женат / замужем</td>\n",
       "      <td>0</td>\n",
       "      <td>F</td>\n",
       "      <td>сотрудник</td>\n",
       "      <td>0</td>\n",
       "      <td>253875</td>\n",
       "      <td>покупка жилья</td>\n",
       "      <td>операции с недвижимостью</td>\n",
       "    </tr>\n",
       "    <tr>\n",
       "      <th>1</th>\n",
       "      <td>1</td>\n",
       "      <td>36</td>\n",
       "      <td>среднее</td>\n",
       "      <td>1</td>\n",
       "      <td>женат / замужем</td>\n",
       "      <td>0</td>\n",
       "      <td>F</td>\n",
       "      <td>сотрудник</td>\n",
       "      <td>0</td>\n",
       "      <td>112080</td>\n",
       "      <td>приобретение автомобиля</td>\n",
       "      <td>операции с автомобилем</td>\n",
       "    </tr>\n",
       "    <tr>\n",
       "      <th>2</th>\n",
       "      <td>0</td>\n",
       "      <td>33</td>\n",
       "      <td>среднее</td>\n",
       "      <td>1</td>\n",
       "      <td>женат / замужем</td>\n",
       "      <td>0</td>\n",
       "      <td>M</td>\n",
       "      <td>сотрудник</td>\n",
       "      <td>0</td>\n",
       "      <td>145885</td>\n",
       "      <td>покупка жилья</td>\n",
       "      <td>операции с недвижимостью</td>\n",
       "    </tr>\n",
       "    <tr>\n",
       "      <th>3</th>\n",
       "      <td>3</td>\n",
       "      <td>32</td>\n",
       "      <td>среднее</td>\n",
       "      <td>1</td>\n",
       "      <td>женат / замужем</td>\n",
       "      <td>0</td>\n",
       "      <td>M</td>\n",
       "      <td>сотрудник</td>\n",
       "      <td>0</td>\n",
       "      <td>267628</td>\n",
       "      <td>дополнительное образование</td>\n",
       "      <td>получение образования</td>\n",
       "    </tr>\n",
       "    <tr>\n",
       "      <th>4</th>\n",
       "      <td>0</td>\n",
       "      <td>53</td>\n",
       "      <td>среднее</td>\n",
       "      <td>1</td>\n",
       "      <td>гражданский брак</td>\n",
       "      <td>1</td>\n",
       "      <td>F</td>\n",
       "      <td>пенсионер</td>\n",
       "      <td>0</td>\n",
       "      <td>158616</td>\n",
       "      <td>сыграть свадьбу</td>\n",
       "      <td>проведение свадьбы</td>\n",
       "    </tr>\n",
       "    <tr>\n",
       "      <th>5</th>\n",
       "      <td>0</td>\n",
       "      <td>27</td>\n",
       "      <td>высшее</td>\n",
       "      <td>0</td>\n",
       "      <td>гражданский брак</td>\n",
       "      <td>1</td>\n",
       "      <td>M</td>\n",
       "      <td>компаньон</td>\n",
       "      <td>0</td>\n",
       "      <td>255763</td>\n",
       "      <td>покупка жилья</td>\n",
       "      <td>операции с недвижимостью</td>\n",
       "    </tr>\n",
       "    <tr>\n",
       "      <th>6</th>\n",
       "      <td>0</td>\n",
       "      <td>43</td>\n",
       "      <td>высшее</td>\n",
       "      <td>0</td>\n",
       "      <td>женат / замужем</td>\n",
       "      <td>0</td>\n",
       "      <td>F</td>\n",
       "      <td>компаньон</td>\n",
       "      <td>0</td>\n",
       "      <td>240525</td>\n",
       "      <td>операции с жильем</td>\n",
       "      <td>операции с недвижимостью</td>\n",
       "    </tr>\n",
       "    <tr>\n",
       "      <th>7</th>\n",
       "      <td>0</td>\n",
       "      <td>50</td>\n",
       "      <td>среднее</td>\n",
       "      <td>1</td>\n",
       "      <td>женат / замужем</td>\n",
       "      <td>0</td>\n",
       "      <td>M</td>\n",
       "      <td>сотрудник</td>\n",
       "      <td>0</td>\n",
       "      <td>135823</td>\n",
       "      <td>образование</td>\n",
       "      <td>получение образования</td>\n",
       "    </tr>\n",
       "    <tr>\n",
       "      <th>8</th>\n",
       "      <td>2</td>\n",
       "      <td>35</td>\n",
       "      <td>высшее</td>\n",
       "      <td>0</td>\n",
       "      <td>гражданский брак</td>\n",
       "      <td>1</td>\n",
       "      <td>F</td>\n",
       "      <td>сотрудник</td>\n",
       "      <td>0</td>\n",
       "      <td>95856</td>\n",
       "      <td>на проведение свадьбы</td>\n",
       "      <td>проведение свадьбы</td>\n",
       "    </tr>\n",
       "    <tr>\n",
       "      <th>9</th>\n",
       "      <td>0</td>\n",
       "      <td>41</td>\n",
       "      <td>среднее</td>\n",
       "      <td>1</td>\n",
       "      <td>женат / замужем</td>\n",
       "      <td>0</td>\n",
       "      <td>M</td>\n",
       "      <td>сотрудник</td>\n",
       "      <td>0</td>\n",
       "      <td>144425</td>\n",
       "      <td>покупка жилья для семьи</td>\n",
       "      <td>операции с недвижимостью</td>\n",
       "    </tr>\n",
       "  </tbody>\n",
       "</table>\n",
       "</div>"
      ],
      "text/plain": [
       "   children  dob_years education  education_id     family_status  \\\n",
       "0         1         42    высшее             0   женат / замужем   \n",
       "1         1         36   среднее             1   женат / замужем   \n",
       "2         0         33   среднее             1   женат / замужем   \n",
       "3         3         32   среднее             1   женат / замужем   \n",
       "4         0         53   среднее             1  гражданский брак   \n",
       "5         0         27    высшее             0  гражданский брак   \n",
       "6         0         43    высшее             0   женат / замужем   \n",
       "7         0         50   среднее             1   женат / замужем   \n",
       "8         2         35    высшее             0  гражданский брак   \n",
       "9         0         41   среднее             1   женат / замужем   \n",
       "\n",
       "   family_status_id gender income_type  debt  total_income  \\\n",
       "0                 0      F   сотрудник     0        253875   \n",
       "1                 0      F   сотрудник     0        112080   \n",
       "2                 0      M   сотрудник     0        145885   \n",
       "3                 0      M   сотрудник     0        267628   \n",
       "4                 1      F   пенсионер     0        158616   \n",
       "5                 1      M   компаньон     0        255763   \n",
       "6                 0      F   компаньон     0        240525   \n",
       "7                 0      M   сотрудник     0        135823   \n",
       "8                 1      F   сотрудник     0         95856   \n",
       "9                 0      M   сотрудник     0        144425   \n",
       "\n",
       "                      purpose          purpose_category  \n",
       "0               покупка жилья  операции с недвижимостью  \n",
       "1     приобретение автомобиля    операции с автомобилем  \n",
       "2               покупка жилья  операции с недвижимостью  \n",
       "3  дополнительное образование     получение образования  \n",
       "4             сыграть свадьбу        проведение свадьбы  \n",
       "5               покупка жилья  операции с недвижимостью  \n",
       "6           операции с жильем  операции с недвижимостью  \n",
       "7                 образование     получение образования  \n",
       "8       на проведение свадьбы        проведение свадьбы  \n",
       "9     покупка жилья для семьи  операции с недвижимостью  "
      ]
     },
     "execution_count": 48,
     "metadata": {},
     "output_type": "execute_result"
    }
   ],
   "source": [
    "# применим функцию к столбцу датафрейма\n",
    "df['purpose_category'] = df['purpose'].apply(categorization_purp)\n",
    "# проверка\n",
    "df.head(10)"
   ]
  },
  {
   "cell_type": "markdown",
   "id": "b3aad6df",
   "metadata": {},
   "source": [
    "Проверим учтены ли все категории. При вызове функции unique() в столбце `purpose_category` мы не должны получить значений *'нет категории'*"
   ]
  },
  {
   "cell_type": "code",
   "execution_count": 49,
   "id": "6c23958d",
   "metadata": {},
   "outputs": [
    {
     "data": {
      "text/plain": [
       "array(['операции с недвижимостью', 'операции с автомобилем',\n",
       "       'получение образования', 'проведение свадьбы'], dtype=object)"
      ]
     },
     "execution_count": 49,
     "metadata": {},
     "output_type": "execute_result"
    }
   ],
   "source": [
    "# проверка уникальных значений в столбце 'purpose_category'\n",
    "df['purpose_category'].unique()"
   ]
  },
  {
   "cell_type": "markdown",
   "id": "13bab69a",
   "metadata": {},
   "source": [
    "Функция отработала корректно."
   ]
  },
  {
   "cell_type": "markdown",
   "id": "c9a94013",
   "metadata": {},
   "source": [
    "## Категоризация дохода"
   ]
  },
  {
   "cell_type": "markdown",
   "id": "c225b7d2",
   "metadata": {},
   "source": [
    "Анализировать текущий датафрейм не совсем удобно, в каждой заявка клиента указан его конкретный доход. С целью облегчения анализа данных категоризируем данные."
   ]
  },
  {
   "cell_type": "markdown",
   "id": "5de13ac0",
   "metadata": {},
   "source": [
    "Напишем функцию, которая категоризирует доход клиента `total_income` в каждой заявке.\n",
    "В функцию заложим следующие условия:\n",
    "\n",
    "* 0–30000 — 'E';\n",
    "* 30001–50000 — 'D';\n",
    "* 50001–200000 — 'C';\n",
    "* 200001–1000000 — 'B';\n",
    "* 1000001 и выше — 'A'.\n",
    "\n",
    "Например, кредитополучателю с доходом 25000 нужно назначить категорию 'E', а клиенту, получающему 235000, — 'B'."
   ]
  },
  {
   "cell_type": "code",
   "execution_count": 50,
   "id": "7b2398a4",
   "metadata": {},
   "outputs": [],
   "source": [
    "# функция категоризации ежемесячного дохода\n",
    "def categorization_income(income):\n",
    "    \n",
    "    try:  \n",
    "        if 0 < income < 30000:\n",
    "            return 'E' \n",
    "        \n",
    "        if 30001 < income < 50000:\n",
    "            return 'D'\n",
    "    \n",
    "        if 50001 < income < 200000:\n",
    "            return 'C'\n",
    "    \n",
    "        if 200001 < income < 1000000:\n",
    "            return 'B'\n",
    "    \n",
    "        if income > 1000001:\n",
    "            return 'A'\n",
    "    except:\n",
    "         return 'нет категории'"
   ]
  },
  {
   "cell_type": "markdown",
   "id": "33cf80d9",
   "metadata": {},
   "source": [
    "Протестируем функцию:"
   ]
  },
  {
   "cell_type": "code",
   "execution_count": 51,
   "id": "1d99c057",
   "metadata": {},
   "outputs": [
    {
     "name": "stdout",
     "output_type": "stream",
     "text": [
      "E\n",
      "C\n"
     ]
    }
   ],
   "source": [
    "# ткстирование функции\n",
    "print(categorization_income(1))\n",
    "print(categorization_income(100000))"
   ]
  },
  {
   "cell_type": "markdown",
   "id": "fa1c476c",
   "metadata": {},
   "source": [
    "Применим функцию к стобцу `total_income` датафрейма"
   ]
  },
  {
   "cell_type": "code",
   "execution_count": 52,
   "id": "96aaa851",
   "metadata": {},
   "outputs": [],
   "source": [
    "# применяю функцию к столбцу датафрейма \n",
    "df['total_income_category'] = df['total_income'].apply(categorization_income)"
   ]
  },
  {
   "cell_type": "code",
   "execution_count": 53,
   "id": "40b45ae8",
   "metadata": {},
   "outputs": [
    {
     "data": {
      "text/html": [
       "<div>\n",
       "<style scoped>\n",
       "    .dataframe tbody tr th:only-of-type {\n",
       "        vertical-align: middle;\n",
       "    }\n",
       "\n",
       "    .dataframe tbody tr th {\n",
       "        vertical-align: top;\n",
       "    }\n",
       "\n",
       "    .dataframe thead th {\n",
       "        text-align: right;\n",
       "    }\n",
       "</style>\n",
       "<table border=\"1\" class=\"dataframe\">\n",
       "  <thead>\n",
       "    <tr style=\"text-align: right;\">\n",
       "      <th></th>\n",
       "      <th>children</th>\n",
       "      <th>dob_years</th>\n",
       "      <th>education</th>\n",
       "      <th>education_id</th>\n",
       "      <th>family_status</th>\n",
       "      <th>family_status_id</th>\n",
       "      <th>gender</th>\n",
       "      <th>income_type</th>\n",
       "      <th>debt</th>\n",
       "      <th>total_income</th>\n",
       "      <th>purpose</th>\n",
       "      <th>purpose_category</th>\n",
       "      <th>total_income_category</th>\n",
       "    </tr>\n",
       "  </thead>\n",
       "  <tbody>\n",
       "    <tr>\n",
       "      <th>0</th>\n",
       "      <td>1</td>\n",
       "      <td>42</td>\n",
       "      <td>высшее</td>\n",
       "      <td>0</td>\n",
       "      <td>женат / замужем</td>\n",
       "      <td>0</td>\n",
       "      <td>F</td>\n",
       "      <td>сотрудник</td>\n",
       "      <td>0</td>\n",
       "      <td>253875</td>\n",
       "      <td>покупка жилья</td>\n",
       "      <td>операции с недвижимостью</td>\n",
       "      <td>B</td>\n",
       "    </tr>\n",
       "    <tr>\n",
       "      <th>1</th>\n",
       "      <td>1</td>\n",
       "      <td>36</td>\n",
       "      <td>среднее</td>\n",
       "      <td>1</td>\n",
       "      <td>женат / замужем</td>\n",
       "      <td>0</td>\n",
       "      <td>F</td>\n",
       "      <td>сотрудник</td>\n",
       "      <td>0</td>\n",
       "      <td>112080</td>\n",
       "      <td>приобретение автомобиля</td>\n",
       "      <td>операции с автомобилем</td>\n",
       "      <td>C</td>\n",
       "    </tr>\n",
       "    <tr>\n",
       "      <th>2</th>\n",
       "      <td>0</td>\n",
       "      <td>33</td>\n",
       "      <td>среднее</td>\n",
       "      <td>1</td>\n",
       "      <td>женат / замужем</td>\n",
       "      <td>0</td>\n",
       "      <td>M</td>\n",
       "      <td>сотрудник</td>\n",
       "      <td>0</td>\n",
       "      <td>145885</td>\n",
       "      <td>покупка жилья</td>\n",
       "      <td>операции с недвижимостью</td>\n",
       "      <td>C</td>\n",
       "    </tr>\n",
       "    <tr>\n",
       "      <th>3</th>\n",
       "      <td>3</td>\n",
       "      <td>32</td>\n",
       "      <td>среднее</td>\n",
       "      <td>1</td>\n",
       "      <td>женат / замужем</td>\n",
       "      <td>0</td>\n",
       "      <td>M</td>\n",
       "      <td>сотрудник</td>\n",
       "      <td>0</td>\n",
       "      <td>267628</td>\n",
       "      <td>дополнительное образование</td>\n",
       "      <td>получение образования</td>\n",
       "      <td>B</td>\n",
       "    </tr>\n",
       "    <tr>\n",
       "      <th>4</th>\n",
       "      <td>0</td>\n",
       "      <td>53</td>\n",
       "      <td>среднее</td>\n",
       "      <td>1</td>\n",
       "      <td>гражданский брак</td>\n",
       "      <td>1</td>\n",
       "      <td>F</td>\n",
       "      <td>пенсионер</td>\n",
       "      <td>0</td>\n",
       "      <td>158616</td>\n",
       "      <td>сыграть свадьбу</td>\n",
       "      <td>проведение свадьбы</td>\n",
       "      <td>C</td>\n",
       "    </tr>\n",
       "  </tbody>\n",
       "</table>\n",
       "</div>"
      ],
      "text/plain": [
       "   children  dob_years education  education_id     family_status  \\\n",
       "0         1         42    высшее             0   женат / замужем   \n",
       "1         1         36   среднее             1   женат / замужем   \n",
       "2         0         33   среднее             1   женат / замужем   \n",
       "3         3         32   среднее             1   женат / замужем   \n",
       "4         0         53   среднее             1  гражданский брак   \n",
       "\n",
       "   family_status_id gender income_type  debt  total_income  \\\n",
       "0                 0      F   сотрудник     0        253875   \n",
       "1                 0      F   сотрудник     0        112080   \n",
       "2                 0      M   сотрудник     0        145885   \n",
       "3                 0      M   сотрудник     0        267628   \n",
       "4                 1      F   пенсионер     0        158616   \n",
       "\n",
       "                      purpose          purpose_category total_income_category  \n",
       "0               покупка жилья  операции с недвижимостью                     B  \n",
       "1     приобретение автомобиля    операции с автомобилем                     C  \n",
       "2               покупка жилья  операции с недвижимостью                     C  \n",
       "3  дополнительное образование     получение образования                     B  \n",
       "4             сыграть свадьбу        проведение свадьбы                     C  "
      ]
     },
     "execution_count": 53,
     "metadata": {},
     "output_type": "execute_result"
    }
   ],
   "source": [
    "# проверка\n",
    "df.head()"
   ]
  },
  {
   "cell_type": "markdown",
   "id": "052f24c7",
   "metadata": {},
   "source": [
    "## Формирование дополнительных датафреймов словарей, декомпозиция исходного датафрейма."
   ]
  },
  {
   "cell_type": "markdown",
   "id": "4e0a7248",
   "metadata": {},
   "source": [
    "Для оптимизации работы создадим отдельные словари, где названию категории образования будет соответствовать номер."
   ]
  },
  {
   "cell_type": "markdown",
   "id": "fd8fc9a2",
   "metadata": {},
   "source": [
    "### Словарь по типу образования"
   ]
  },
  {
   "cell_type": "code",
   "execution_count": 54,
   "id": "f95d08d4",
   "metadata": {},
   "outputs": [],
   "source": [
    "# создаю датафрейм по типу образования\n",
    "df_education_dict = df[['education','education_id']]"
   ]
  },
  {
   "cell_type": "code",
   "execution_count": 55,
   "id": "2ac73a17",
   "metadata": {},
   "outputs": [
    {
     "data": {
      "text/html": [
       "<div>\n",
       "<style scoped>\n",
       "    .dataframe tbody tr th:only-of-type {\n",
       "        vertical-align: middle;\n",
       "    }\n",
       "\n",
       "    .dataframe tbody tr th {\n",
       "        vertical-align: top;\n",
       "    }\n",
       "\n",
       "    .dataframe thead th {\n",
       "        text-align: right;\n",
       "    }\n",
       "</style>\n",
       "<table border=\"1\" class=\"dataframe\">\n",
       "  <thead>\n",
       "    <tr style=\"text-align: right;\">\n",
       "      <th></th>\n",
       "      <th>education</th>\n",
       "      <th>education_id</th>\n",
       "    </tr>\n",
       "  </thead>\n",
       "  <tbody>\n",
       "    <tr>\n",
       "      <th>0</th>\n",
       "      <td>высшее</td>\n",
       "      <td>0</td>\n",
       "    </tr>\n",
       "    <tr>\n",
       "      <th>1</th>\n",
       "      <td>среднее</td>\n",
       "      <td>1</td>\n",
       "    </tr>\n",
       "    <tr>\n",
       "      <th>2</th>\n",
       "      <td>среднее</td>\n",
       "      <td>1</td>\n",
       "    </tr>\n",
       "    <tr>\n",
       "      <th>3</th>\n",
       "      <td>среднее</td>\n",
       "      <td>1</td>\n",
       "    </tr>\n",
       "    <tr>\n",
       "      <th>4</th>\n",
       "      <td>среднее</td>\n",
       "      <td>1</td>\n",
       "    </tr>\n",
       "    <tr>\n",
       "      <th>5</th>\n",
       "      <td>высшее</td>\n",
       "      <td>0</td>\n",
       "    </tr>\n",
       "    <tr>\n",
       "      <th>6</th>\n",
       "      <td>высшее</td>\n",
       "      <td>0</td>\n",
       "    </tr>\n",
       "    <tr>\n",
       "      <th>7</th>\n",
       "      <td>среднее</td>\n",
       "      <td>1</td>\n",
       "    </tr>\n",
       "    <tr>\n",
       "      <th>8</th>\n",
       "      <td>высшее</td>\n",
       "      <td>0</td>\n",
       "    </tr>\n",
       "    <tr>\n",
       "      <th>9</th>\n",
       "      <td>среднее</td>\n",
       "      <td>1</td>\n",
       "    </tr>\n",
       "  </tbody>\n",
       "</table>\n",
       "</div>"
      ],
      "text/plain": [
       "  education  education_id\n",
       "0    высшее             0\n",
       "1   среднее             1\n",
       "2   среднее             1\n",
       "3   среднее             1\n",
       "4   среднее             1\n",
       "5    высшее             0\n",
       "6    высшее             0\n",
       "7   среднее             1\n",
       "8    высшее             0\n",
       "9   среднее             1"
      ]
     },
     "execution_count": 55,
     "metadata": {},
     "output_type": "execute_result"
    }
   ],
   "source": [
    "# проверка\n",
    "df_education_dict.head(10)"
   ]
  },
  {
   "cell_type": "markdown",
   "id": "6d0dc5c5",
   "metadata": {},
   "source": [
    "Теперь удлаим из него дубликаты"
   ]
  },
  {
   "cell_type": "code",
   "execution_count": 56,
   "id": "0fa291dd",
   "metadata": {},
   "outputs": [
    {
     "data": {
      "text/html": [
       "<div>\n",
       "<style scoped>\n",
       "    .dataframe tbody tr th:only-of-type {\n",
       "        vertical-align: middle;\n",
       "    }\n",
       "\n",
       "    .dataframe tbody tr th {\n",
       "        vertical-align: top;\n",
       "    }\n",
       "\n",
       "    .dataframe thead th {\n",
       "        text-align: right;\n",
       "    }\n",
       "</style>\n",
       "<table border=\"1\" class=\"dataframe\">\n",
       "  <thead>\n",
       "    <tr style=\"text-align: right;\">\n",
       "      <th></th>\n",
       "      <th>education</th>\n",
       "      <th>education_id</th>\n",
       "    </tr>\n",
       "  </thead>\n",
       "  <tbody>\n",
       "    <tr>\n",
       "      <th>0</th>\n",
       "      <td>высшее</td>\n",
       "      <td>0</td>\n",
       "    </tr>\n",
       "    <tr>\n",
       "      <th>1</th>\n",
       "      <td>среднее</td>\n",
       "      <td>1</td>\n",
       "    </tr>\n",
       "    <tr>\n",
       "      <th>2</th>\n",
       "      <td>неоконченное высшее</td>\n",
       "      <td>2</td>\n",
       "    </tr>\n",
       "    <tr>\n",
       "      <th>3</th>\n",
       "      <td>начальное</td>\n",
       "      <td>3</td>\n",
       "    </tr>\n",
       "    <tr>\n",
       "      <th>4</th>\n",
       "      <td>ученая степень</td>\n",
       "      <td>4</td>\n",
       "    </tr>\n",
       "  </tbody>\n",
       "</table>\n",
       "</div>"
      ],
      "text/plain": [
       "             education  education_id\n",
       "0               высшее             0\n",
       "1              среднее             1\n",
       "2  неоконченное высшее             2\n",
       "3            начальное             3\n",
       "4       ученая степень             4"
      ]
     },
     "execution_count": 56,
     "metadata": {},
     "output_type": "execute_result"
    }
   ],
   "source": [
    "# удалю из него дубликаты\n",
    "df_education_dict = df_education_dict.drop_duplicates().reset_index(drop=True)\n",
    "# проверка\n",
    "df_education_dict "
   ]
  },
  {
   "cell_type": "markdown",
   "id": "1938a20a",
   "metadata": {},
   "source": [
    "### Словарь по виду семейного положения"
   ]
  },
  {
   "cell_type": "code",
   "execution_count": 57,
   "id": "80e3fe40",
   "metadata": {},
   "outputs": [
    {
     "data": {
      "text/html": [
       "<div>\n",
       "<style scoped>\n",
       "    .dataframe tbody tr th:only-of-type {\n",
       "        vertical-align: middle;\n",
       "    }\n",
       "\n",
       "    .dataframe tbody tr th {\n",
       "        vertical-align: top;\n",
       "    }\n",
       "\n",
       "    .dataframe thead th {\n",
       "        text-align: right;\n",
       "    }\n",
       "</style>\n",
       "<table border=\"1\" class=\"dataframe\">\n",
       "  <thead>\n",
       "    <tr style=\"text-align: right;\">\n",
       "      <th></th>\n",
       "      <th>family_status</th>\n",
       "      <th>family_status_id</th>\n",
       "    </tr>\n",
       "  </thead>\n",
       "  <tbody>\n",
       "    <tr>\n",
       "      <th>0</th>\n",
       "      <td>женат / замужем</td>\n",
       "      <td>0</td>\n",
       "    </tr>\n",
       "    <tr>\n",
       "      <th>1</th>\n",
       "      <td>женат / замужем</td>\n",
       "      <td>0</td>\n",
       "    </tr>\n",
       "    <tr>\n",
       "      <th>2</th>\n",
       "      <td>женат / замужем</td>\n",
       "      <td>0</td>\n",
       "    </tr>\n",
       "    <tr>\n",
       "      <th>3</th>\n",
       "      <td>женат / замужем</td>\n",
       "      <td>0</td>\n",
       "    </tr>\n",
       "    <tr>\n",
       "      <th>4</th>\n",
       "      <td>гражданский брак</td>\n",
       "      <td>1</td>\n",
       "    </tr>\n",
       "    <tr>\n",
       "      <th>5</th>\n",
       "      <td>гражданский брак</td>\n",
       "      <td>1</td>\n",
       "    </tr>\n",
       "    <tr>\n",
       "      <th>6</th>\n",
       "      <td>женат / замужем</td>\n",
       "      <td>0</td>\n",
       "    </tr>\n",
       "    <tr>\n",
       "      <th>7</th>\n",
       "      <td>женат / замужем</td>\n",
       "      <td>0</td>\n",
       "    </tr>\n",
       "    <tr>\n",
       "      <th>8</th>\n",
       "      <td>гражданский брак</td>\n",
       "      <td>1</td>\n",
       "    </tr>\n",
       "    <tr>\n",
       "      <th>9</th>\n",
       "      <td>женат / замужем</td>\n",
       "      <td>0</td>\n",
       "    </tr>\n",
       "  </tbody>\n",
       "</table>\n",
       "</div>"
      ],
      "text/plain": [
       "      family_status  family_status_id\n",
       "0   женат / замужем                 0\n",
       "1   женат / замужем                 0\n",
       "2   женат / замужем                 0\n",
       "3   женат / замужем                 0\n",
       "4  гражданский брак                 1\n",
       "5  гражданский брак                 1\n",
       "6   женат / замужем                 0\n",
       "7   женат / замужем                 0\n",
       "8  гражданский брак                 1\n",
       "9   женат / замужем                 0"
      ]
     },
     "execution_count": 57,
     "metadata": {},
     "output_type": "execute_result"
    }
   ],
   "source": [
    "# создаю датафрейм по виду семейного положения\n",
    "df_family_status_dict = df[['family_status','family_status_id']]\n",
    "df_family_status_dict.head(10)"
   ]
  },
  {
   "cell_type": "code",
   "execution_count": 58,
   "id": "c89f9d3b",
   "metadata": {},
   "outputs": [
    {
     "data": {
      "text/html": [
       "<div>\n",
       "<style scoped>\n",
       "    .dataframe tbody tr th:only-of-type {\n",
       "        vertical-align: middle;\n",
       "    }\n",
       "\n",
       "    .dataframe tbody tr th {\n",
       "        vertical-align: top;\n",
       "    }\n",
       "\n",
       "    .dataframe thead th {\n",
       "        text-align: right;\n",
       "    }\n",
       "</style>\n",
       "<table border=\"1\" class=\"dataframe\">\n",
       "  <thead>\n",
       "    <tr style=\"text-align: right;\">\n",
       "      <th></th>\n",
       "      <th>family_status</th>\n",
       "      <th>family_status_id</th>\n",
       "    </tr>\n",
       "  </thead>\n",
       "  <tbody>\n",
       "    <tr>\n",
       "      <th>0</th>\n",
       "      <td>женат / замужем</td>\n",
       "      <td>0</td>\n",
       "    </tr>\n",
       "    <tr>\n",
       "      <th>1</th>\n",
       "      <td>гражданский брак</td>\n",
       "      <td>1</td>\n",
       "    </tr>\n",
       "    <tr>\n",
       "      <th>2</th>\n",
       "      <td>вдовец / вдова</td>\n",
       "      <td>2</td>\n",
       "    </tr>\n",
       "    <tr>\n",
       "      <th>3</th>\n",
       "      <td>в разводе</td>\n",
       "      <td>3</td>\n",
       "    </tr>\n",
       "    <tr>\n",
       "      <th>4</th>\n",
       "      <td>Не женат / не замужем</td>\n",
       "      <td>4</td>\n",
       "    </tr>\n",
       "  </tbody>\n",
       "</table>\n",
       "</div>"
      ],
      "text/plain": [
       "           family_status  family_status_id\n",
       "0        женат / замужем                 0\n",
       "1       гражданский брак                 1\n",
       "2         вдовец / вдова                 2\n",
       "3              в разводе                 3\n",
       "4  Не женат / не замужем                 4"
      ]
     },
     "execution_count": 58,
     "metadata": {},
     "output_type": "execute_result"
    }
   ],
   "source": [
    "# удалю из него дубликаты\n",
    "df_family_status_dict = df_family_status_dict.drop_duplicates().reset_index(drop=True)\n",
    "# проверка\n",
    "df_family_status_dict"
   ]
  },
  {
   "cell_type": "markdown",
   "id": "f84e87c2",
   "metadata": {},
   "source": [
    "Удалим из датафрейма столбцы `family_status` и `education`"
   ]
  },
  {
   "cell_type": "code",
   "execution_count": 59,
   "id": "b2dbc0e9",
   "metadata": {},
   "outputs": [
    {
     "name": "stdout",
     "output_type": "stream",
     "text": [
      "<class 'pandas.core.frame.DataFrame'>\n",
      "RangeIndex: 21330 entries, 0 to 21329\n",
      "Data columns (total 11 columns):\n",
      " #   Column                 Non-Null Count  Dtype \n",
      "---  ------                 --------------  ----- \n",
      " 0   children               21330 non-null  int64 \n",
      " 1   dob_years              21330 non-null  int64 \n",
      " 2   education_id           21330 non-null  int64 \n",
      " 3   family_status_id       21330 non-null  int64 \n",
      " 4   gender                 21330 non-null  object\n",
      " 5   income_type            21330 non-null  object\n",
      " 6   debt                   21330 non-null  int64 \n",
      " 7   total_income           21330 non-null  int32 \n",
      " 8   purpose                21330 non-null  object\n",
      " 9   purpose_category       21330 non-null  object\n",
      " 10  total_income_category  21329 non-null  object\n",
      "dtypes: int32(1), int64(5), object(5)\n",
      "memory usage: 1.7+ MB\n"
     ]
    }
   ],
   "source": [
    "# удаляем из датафрейма столбцы\n",
    "df_clean = df.drop(['family_status','education'],axis=1) # удаляем из датафрейма столбцы\n",
    "# информация об очищенном датафрейме\n",
    "df_clean.info()"
   ]
  },
  {
   "cell_type": "code",
   "execution_count": 60,
   "id": "b14fe4f9",
   "metadata": {},
   "outputs": [
    {
     "data": {
      "text/html": [
       "<div>\n",
       "<style scoped>\n",
       "    .dataframe tbody tr th:only-of-type {\n",
       "        vertical-align: middle;\n",
       "    }\n",
       "\n",
       "    .dataframe tbody tr th {\n",
       "        vertical-align: top;\n",
       "    }\n",
       "\n",
       "    .dataframe thead th {\n",
       "        text-align: right;\n",
       "    }\n",
       "</style>\n",
       "<table border=\"1\" class=\"dataframe\">\n",
       "  <thead>\n",
       "    <tr style=\"text-align: right;\">\n",
       "      <th></th>\n",
       "      <th>children</th>\n",
       "      <th>dob_years</th>\n",
       "      <th>education_id</th>\n",
       "      <th>family_status_id</th>\n",
       "      <th>gender</th>\n",
       "      <th>income_type</th>\n",
       "      <th>debt</th>\n",
       "      <th>total_income</th>\n",
       "      <th>purpose</th>\n",
       "      <th>purpose_category</th>\n",
       "      <th>total_income_category</th>\n",
       "    </tr>\n",
       "  </thead>\n",
       "  <tbody>\n",
       "    <tr>\n",
       "      <th>0</th>\n",
       "      <td>1</td>\n",
       "      <td>42</td>\n",
       "      <td>0</td>\n",
       "      <td>0</td>\n",
       "      <td>F</td>\n",
       "      <td>сотрудник</td>\n",
       "      <td>0</td>\n",
       "      <td>253875</td>\n",
       "      <td>покупка жилья</td>\n",
       "      <td>операции с недвижимостью</td>\n",
       "      <td>B</td>\n",
       "    </tr>\n",
       "    <tr>\n",
       "      <th>1</th>\n",
       "      <td>1</td>\n",
       "      <td>36</td>\n",
       "      <td>1</td>\n",
       "      <td>0</td>\n",
       "      <td>F</td>\n",
       "      <td>сотрудник</td>\n",
       "      <td>0</td>\n",
       "      <td>112080</td>\n",
       "      <td>приобретение автомобиля</td>\n",
       "      <td>операции с автомобилем</td>\n",
       "      <td>C</td>\n",
       "    </tr>\n",
       "    <tr>\n",
       "      <th>2</th>\n",
       "      <td>0</td>\n",
       "      <td>33</td>\n",
       "      <td>1</td>\n",
       "      <td>0</td>\n",
       "      <td>M</td>\n",
       "      <td>сотрудник</td>\n",
       "      <td>0</td>\n",
       "      <td>145885</td>\n",
       "      <td>покупка жилья</td>\n",
       "      <td>операции с недвижимостью</td>\n",
       "      <td>C</td>\n",
       "    </tr>\n",
       "    <tr>\n",
       "      <th>3</th>\n",
       "      <td>3</td>\n",
       "      <td>32</td>\n",
       "      <td>1</td>\n",
       "      <td>0</td>\n",
       "      <td>M</td>\n",
       "      <td>сотрудник</td>\n",
       "      <td>0</td>\n",
       "      <td>267628</td>\n",
       "      <td>дополнительное образование</td>\n",
       "      <td>получение образования</td>\n",
       "      <td>B</td>\n",
       "    </tr>\n",
       "    <tr>\n",
       "      <th>4</th>\n",
       "      <td>0</td>\n",
       "      <td>53</td>\n",
       "      <td>1</td>\n",
       "      <td>1</td>\n",
       "      <td>F</td>\n",
       "      <td>пенсионер</td>\n",
       "      <td>0</td>\n",
       "      <td>158616</td>\n",
       "      <td>сыграть свадьбу</td>\n",
       "      <td>проведение свадьбы</td>\n",
       "      <td>C</td>\n",
       "    </tr>\n",
       "  </tbody>\n",
       "</table>\n",
       "</div>"
      ],
      "text/plain": [
       "   children  dob_years  education_id  family_status_id gender income_type  \\\n",
       "0         1         42             0                 0      F   сотрудник   \n",
       "1         1         36             1                 0      F   сотрудник   \n",
       "2         0         33             1                 0      M   сотрудник   \n",
       "3         3         32             1                 0      M   сотрудник   \n",
       "4         0         53             1                 1      F   пенсионер   \n",
       "\n",
       "   debt  total_income                     purpose          purpose_category  \\\n",
       "0     0        253875               покупка жилья  операции с недвижимостью   \n",
       "1     0        112080     приобретение автомобиля    операции с автомобилем   \n",
       "2     0        145885               покупка жилья  операции с недвижимостью   \n",
       "3     0        267628  дополнительное образование     получение образования   \n",
       "4     0        158616             сыграть свадьбу        проведение свадьбы   \n",
       "\n",
       "  total_income_category  \n",
       "0                     B  \n",
       "1                     C  \n",
       "2                     C  \n",
       "3                     B  \n",
       "4                     C  "
      ]
     },
     "execution_count": 60,
     "metadata": {},
     "output_type": "execute_result"
    }
   ],
   "source": [
    "# просматриваем очищенный датафрейм, готовый для анализа\n",
    "df_clean.head()"
   ]
  },
  {
   "cell_type": "markdown",
   "id": "bcc2adae",
   "metadata": {},
   "source": [
    "## Ответы на вопросы"
   ]
  },
  {
   "cell_type": "markdown",
   "id": "5e0e8621",
   "metadata": {},
   "source": [
    "Текущие вопросы исседования:\n",
    "\n",
    "1) Есть ли зависимость между количеством детей и возвратом кредита в срок? \\\n",
    "2) Есть ли зависимость между семейным положением и возвратом кредита в срок? \\\n",
    "3) Есть ли зависимость между уровнем дохода и возвратом кредита в срок? \\\n",
    "4) Как разные цели кредита влияют на его возврат в срок?"
   ]
  },
  {
   "cell_type": "markdown",
   "id": "2c61b812",
   "metadata": {},
   "source": [
    "### Есть ли зависимость между количеством детей и возвратом кредита в срок?"
   ]
  },
  {
   "cell_type": "markdown",
   "id": "b83566fd",
   "metadata": {},
   "source": [
    "Далее в проекте будут строиться сводные таблицы. Для автоматизации данного процесса напишем функцию."
   ]
  },
  {
   "cell_type": "code",
   "execution_count": 61,
   "id": "3d8d00bf",
   "metadata": {},
   "outputs": [],
   "source": [
    "def pivot(df_order,column):\n",
    "    df_category = df_order.pivot_table(index=[column],values=['debt'],aggfunc=['count','sum','mean']) \\\n",
    "            .sort_values(by=[('count','debt')],ascending=False) \n",
    "            \n",
    "    return df_category"
   ]
  },
  {
   "cell_type": "markdown",
   "id": "b3ea3fc8",
   "metadata": {},
   "source": [
    "Используем функцию для столбца `children` и посчитаем количество завок, в которых у клиента был невозврата по кредиту"
   ]
  },
  {
   "cell_type": "code",
   "execution_count": 62,
   "id": "c80f1440",
   "metadata": {},
   "outputs": [
    {
     "data": {
      "text/html": [
       "<div>\n",
       "<style scoped>\n",
       "    .dataframe tbody tr th:only-of-type {\n",
       "        vertical-align: middle;\n",
       "    }\n",
       "\n",
       "    .dataframe tbody tr th {\n",
       "        vertical-align: top;\n",
       "    }\n",
       "\n",
       "    .dataframe thead tr th {\n",
       "        text-align: left;\n",
       "    }\n",
       "\n",
       "    .dataframe thead tr:last-of-type th {\n",
       "        text-align: right;\n",
       "    }\n",
       "</style>\n",
       "<table border=\"1\" class=\"dataframe\">\n",
       "  <thead>\n",
       "    <tr>\n",
       "      <th></th>\n",
       "      <th>count</th>\n",
       "      <th>sum</th>\n",
       "      <th>mean</th>\n",
       "    </tr>\n",
       "    <tr>\n",
       "      <th></th>\n",
       "      <th>debt</th>\n",
       "      <th>debt</th>\n",
       "      <th>debt</th>\n",
       "    </tr>\n",
       "    <tr>\n",
       "      <th>children</th>\n",
       "      <th></th>\n",
       "      <th></th>\n",
       "      <th></th>\n",
       "    </tr>\n",
       "  </thead>\n",
       "  <tbody>\n",
       "    <tr>\n",
       "      <th>0</th>\n",
       "      <td>14090</td>\n",
       "      <td>1063</td>\n",
       "      <td>0.075444</td>\n",
       "    </tr>\n",
       "    <tr>\n",
       "      <th>1</th>\n",
       "      <td>4808</td>\n",
       "      <td>444</td>\n",
       "      <td>0.092346</td>\n",
       "    </tr>\n",
       "    <tr>\n",
       "      <th>2</th>\n",
       "      <td>2052</td>\n",
       "      <td>194</td>\n",
       "      <td>0.094542</td>\n",
       "    </tr>\n",
       "    <tr>\n",
       "      <th>3</th>\n",
       "      <td>330</td>\n",
       "      <td>27</td>\n",
       "      <td>0.081818</td>\n",
       "    </tr>\n",
       "    <tr>\n",
       "      <th>4</th>\n",
       "      <td>41</td>\n",
       "      <td>4</td>\n",
       "      <td>0.097561</td>\n",
       "    </tr>\n",
       "    <tr>\n",
       "      <th>5</th>\n",
       "      <td>9</td>\n",
       "      <td>0</td>\n",
       "      <td>0.000000</td>\n",
       "    </tr>\n",
       "  </tbody>\n",
       "</table>\n",
       "</div>"
      ],
      "text/plain": [
       "          count   sum      mean\n",
       "           debt  debt      debt\n",
       "children                       \n",
       "0         14090  1063  0.075444\n",
       "1          4808   444  0.092346\n",
       "2          2052   194  0.094542\n",
       "3           330    27  0.081818\n",
       "4            41     4  0.097561\n",
       "5             9     0  0.000000"
      ]
     },
     "execution_count": 62,
     "metadata": {},
     "output_type": "execute_result"
    }
   ],
   "source": [
    "# применяю функцию для столбца 'children'\n",
    "pivot(df_clean,'children')"
   ]
  },
  {
   "cell_type": "markdown",
   "id": "ff8466c2",
   "metadata": {},
   "source": [
    "Исходя из данной таблицы можно сделать вывод, что с увеличением количества детей в семье доля клиентов имеющих факт задолжности по возврату денежных средств по кредиту возрастает в среднем на 2 %. \\\n",
    "Гипотеза зависимости возврата кредита в срок от количества детей в семье **верна**."
   ]
  },
  {
   "cell_type": "markdown",
   "id": "8ccb27a0",
   "metadata": {},
   "source": [
    "### Есть ли зависимость между семейным положением и возвратом кредита в срок?"
   ]
  },
  {
   "cell_type": "markdown",
   "id": "7b19973d",
   "metadata": {},
   "source": [
    "Для ответа на данный вопрос выполним группировку итогового датафрейма по столбцу `family_status_id` и посчитаем количество завок, в которых у клиента был невозврата по кредиту"
   ]
  },
  {
   "cell_type": "code",
   "execution_count": 63,
   "id": "53df90b8",
   "metadata": {},
   "outputs": [
    {
     "data": {
      "text/html": [
       "<div>\n",
       "<style scoped>\n",
       "    .dataframe tbody tr th:only-of-type {\n",
       "        vertical-align: middle;\n",
       "    }\n",
       "\n",
       "    .dataframe tbody tr th {\n",
       "        vertical-align: top;\n",
       "    }\n",
       "\n",
       "    .dataframe thead tr th {\n",
       "        text-align: left;\n",
       "    }\n",
       "\n",
       "    .dataframe thead tr:last-of-type th {\n",
       "        text-align: right;\n",
       "    }\n",
       "</style>\n",
       "<table border=\"1\" class=\"dataframe\">\n",
       "  <thead>\n",
       "    <tr>\n",
       "      <th></th>\n",
       "      <th>count</th>\n",
       "      <th>sum</th>\n",
       "      <th>mean</th>\n",
       "    </tr>\n",
       "    <tr>\n",
       "      <th></th>\n",
       "      <th>debt</th>\n",
       "      <th>debt</th>\n",
       "      <th>debt</th>\n",
       "    </tr>\n",
       "    <tr>\n",
       "      <th>family_status</th>\n",
       "      <th></th>\n",
       "      <th></th>\n",
       "      <th></th>\n",
       "    </tr>\n",
       "  </thead>\n",
       "  <tbody>\n",
       "    <tr>\n",
       "      <th>женат / замужем</th>\n",
       "      <td>12261</td>\n",
       "      <td>927</td>\n",
       "      <td>0.075606</td>\n",
       "    </tr>\n",
       "    <tr>\n",
       "      <th>гражданский брак</th>\n",
       "      <td>4133</td>\n",
       "      <td>385</td>\n",
       "      <td>0.093153</td>\n",
       "    </tr>\n",
       "    <tr>\n",
       "      <th>Не женат / не замужем</th>\n",
       "      <td>2796</td>\n",
       "      <td>273</td>\n",
       "      <td>0.097639</td>\n",
       "    </tr>\n",
       "    <tr>\n",
       "      <th>в разводе</th>\n",
       "      <td>1189</td>\n",
       "      <td>84</td>\n",
       "      <td>0.070648</td>\n",
       "    </tr>\n",
       "    <tr>\n",
       "      <th>вдовец / вдова</th>\n",
       "      <td>951</td>\n",
       "      <td>63</td>\n",
       "      <td>0.066246</td>\n",
       "    </tr>\n",
       "  </tbody>\n",
       "</table>\n",
       "</div>"
      ],
      "text/plain": [
       "                       count  sum      mean\n",
       "                        debt debt      debt\n",
       "family_status                              \n",
       "женат / замужем        12261  927  0.075606\n",
       "гражданский брак        4133  385  0.093153\n",
       "Не женат / не замужем   2796  273  0.097639\n",
       "в разводе               1189   84  0.070648\n",
       "вдовец / вдова           951   63  0.066246"
      ]
     },
     "execution_count": 63,
     "metadata": {},
     "output_type": "execute_result"
    }
   ],
   "source": [
    "# создам новый датафрейм с джоином family_status для наглядности\n",
    "# создаю сводную таблицу\n",
    "df_family = df_clean.merge(df_family_status_dict, on='family_status_id',how='left')\n",
    "                    \n",
    "# полученная сводная таблица\n",
    "pivot(df_family,'family_status')"
   ]
  },
  {
   "cell_type": "markdown",
   "id": "5d5c85ee",
   "metadata": {},
   "source": [
    "Исходя из данной таблицы можно сделать вывод, что доля невозвратов по кредитам больше у клиентов находящихся либо в гражданском браке, либо - не женатых/не замужем. Их доля выше в среднем на 2%, чем у женатых или находящихся в разводе.\n",
    "Наименьшая доля невозвратов по кредитным денежным средствам у вдовцов/вдов - 6,6%. \\\n",
    "Гипотеза зависимости возврата кредита в срок и семейным положением **верна**."
   ]
  },
  {
   "cell_type": "markdown",
   "id": "366d02e1",
   "metadata": {},
   "source": [
    "### Есть ли зависимость между уровнем дохода и возвратом кредита в срок?"
   ]
  },
  {
   "cell_type": "markdown",
   "id": "aa60d6bb",
   "metadata": {},
   "source": [
    "Для ответа на данный вопрос выполним группировку итогового датафрейма по столбцу `total_income_category` и посчитаем количество завок, в которых у клиента был невозврата по кредиту"
   ]
  },
  {
   "cell_type": "code",
   "execution_count": 64,
   "id": "7abd15e3",
   "metadata": {},
   "outputs": [
    {
     "data": {
      "text/html": [
       "<div>\n",
       "<style scoped>\n",
       "    .dataframe tbody tr th:only-of-type {\n",
       "        vertical-align: middle;\n",
       "    }\n",
       "\n",
       "    .dataframe tbody tr th {\n",
       "        vertical-align: top;\n",
       "    }\n",
       "\n",
       "    .dataframe thead tr th {\n",
       "        text-align: left;\n",
       "    }\n",
       "\n",
       "    .dataframe thead tr:last-of-type th {\n",
       "        text-align: right;\n",
       "    }\n",
       "</style>\n",
       "<table border=\"1\" class=\"dataframe\">\n",
       "  <thead>\n",
       "    <tr>\n",
       "      <th></th>\n",
       "      <th>count</th>\n",
       "      <th>sum</th>\n",
       "      <th>mean</th>\n",
       "    </tr>\n",
       "    <tr>\n",
       "      <th></th>\n",
       "      <th>debt</th>\n",
       "      <th>debt</th>\n",
       "      <th>debt</th>\n",
       "    </tr>\n",
       "    <tr>\n",
       "      <th>total_income_category</th>\n",
       "      <th></th>\n",
       "      <th></th>\n",
       "      <th></th>\n",
       "    </tr>\n",
       "  </thead>\n",
       "  <tbody>\n",
       "    <tr>\n",
       "      <th>C</th>\n",
       "      <td>15846</td>\n",
       "      <td>1350</td>\n",
       "      <td>0.085195</td>\n",
       "    </tr>\n",
       "    <tr>\n",
       "      <th>B</th>\n",
       "      <td>5087</td>\n",
       "      <td>357</td>\n",
       "      <td>0.070179</td>\n",
       "    </tr>\n",
       "    <tr>\n",
       "      <th>D</th>\n",
       "      <td>349</td>\n",
       "      <td>21</td>\n",
       "      <td>0.060172</td>\n",
       "    </tr>\n",
       "    <tr>\n",
       "      <th>A</th>\n",
       "      <td>25</td>\n",
       "      <td>2</td>\n",
       "      <td>0.080000</td>\n",
       "    </tr>\n",
       "    <tr>\n",
       "      <th>E</th>\n",
       "      <td>22</td>\n",
       "      <td>2</td>\n",
       "      <td>0.090909</td>\n",
       "    </tr>\n",
       "  </tbody>\n",
       "</table>\n",
       "</div>"
      ],
      "text/plain": [
       "                       count   sum      mean\n",
       "                        debt  debt      debt\n",
       "total_income_category                       \n",
       "C                      15846  1350  0.085195\n",
       "B                       5087   357  0.070179\n",
       "D                        349    21  0.060172\n",
       "A                         25     2  0.080000\n",
       "E                         22     2  0.090909"
      ]
     },
     "execution_count": 64,
     "metadata": {},
     "output_type": "execute_result"
    }
   ],
   "source": [
    "# полученная сводная таблица\n",
    "pivot(df_clean,'total_income_category')"
   ]
  },
  {
   "cell_type": "markdown",
   "id": "f597ae6a",
   "metadata": {},
   "source": [
    "Исходя из данной таблицы можно сказать, что большую долю в выборке составляют клиенты с средним доходам (категория 'C') от 50 000 до 200 000 у.е. Доля клиентов имеющих задолжности по кредитным денежным средствам в данной категории одна из самых больших - 8,5 %, больше только у клиентов с категорией 'Е' - 9,1%, но их доля в данной выборке очень маленькая, для более четкого и детального анализа необходимо увелить размер выборки. \\\n",
    "С повышением уровня категории доля заявок с клиентами, которые имели задолжность по возврату кредитных денежных средств уменьшается на 1,5% (категория 'B'). Анализировать корректность доли в категории 'А' не представляется возможным в силу опять же маленькой выборки.\n",
    "Гипотеза зависимости между возвратом кредита в срок и уровнем дохода **верна**."
   ]
  },
  {
   "cell_type": "markdown",
   "id": "715c3f16",
   "metadata": {},
   "source": [
    "### Как разные цели кредита влияют на его возврат в срок?"
   ]
  },
  {
   "cell_type": "markdown",
   "id": "830e03c9",
   "metadata": {},
   "source": [
    "Для ответа на данный вопрос выполним группировку итогового датафрейма по столбцу `purpose_category` и посчитаем количество завок, в которых у клиента был невозврата по кредиту"
   ]
  },
  {
   "cell_type": "code",
   "execution_count": 65,
   "id": "dbb4fc07",
   "metadata": {},
   "outputs": [
    {
     "data": {
      "text/html": [
       "<div>\n",
       "<style scoped>\n",
       "    .dataframe tbody tr th:only-of-type {\n",
       "        vertical-align: middle;\n",
       "    }\n",
       "\n",
       "    .dataframe tbody tr th {\n",
       "        vertical-align: top;\n",
       "    }\n",
       "\n",
       "    .dataframe thead tr th {\n",
       "        text-align: left;\n",
       "    }\n",
       "\n",
       "    .dataframe thead tr:last-of-type th {\n",
       "        text-align: right;\n",
       "    }\n",
       "</style>\n",
       "<table border=\"1\" class=\"dataframe\">\n",
       "  <thead>\n",
       "    <tr>\n",
       "      <th></th>\n",
       "      <th>count</th>\n",
       "      <th>sum</th>\n",
       "      <th>mean</th>\n",
       "    </tr>\n",
       "    <tr>\n",
       "      <th></th>\n",
       "      <th>debt</th>\n",
       "      <th>debt</th>\n",
       "      <th>debt</th>\n",
       "    </tr>\n",
       "    <tr>\n",
       "      <th>purpose_category</th>\n",
       "      <th></th>\n",
       "      <th></th>\n",
       "      <th></th>\n",
       "    </tr>\n",
       "  </thead>\n",
       "  <tbody>\n",
       "    <tr>\n",
       "      <th>операции с недвижимостью</th>\n",
       "      <td>10750</td>\n",
       "      <td>780</td>\n",
       "      <td>0.072558</td>\n",
       "    </tr>\n",
       "    <tr>\n",
       "      <th>операции с автомобилем</th>\n",
       "      <td>4279</td>\n",
       "      <td>400</td>\n",
       "      <td>0.093480</td>\n",
       "    </tr>\n",
       "    <tr>\n",
       "      <th>получение образования</th>\n",
       "      <td>3988</td>\n",
       "      <td>369</td>\n",
       "      <td>0.092528</td>\n",
       "    </tr>\n",
       "    <tr>\n",
       "      <th>проведение свадьбы</th>\n",
       "      <td>2313</td>\n",
       "      <td>183</td>\n",
       "      <td>0.079118</td>\n",
       "    </tr>\n",
       "  </tbody>\n",
       "</table>\n",
       "</div>"
      ],
      "text/plain": [
       "                          count  sum      mean\n",
       "                           debt debt      debt\n",
       "purpose_category                              \n",
       "операции с недвижимостью  10750  780  0.072558\n",
       "операции с автомобилем     4279  400  0.093480\n",
       "получение образования      3988  369  0.092528\n",
       "проведение свадьбы         2313  183  0.079118"
      ]
     },
     "execution_count": 65,
     "metadata": {},
     "output_type": "execute_result"
    }
   ],
   "source": [
    "# полученная сводная таблица\n",
    "pivot(df_clean,'purpose_category')"
   ]
  },
  {
   "cell_type": "markdown",
   "id": "47e0abd3",
   "metadata": {},
   "source": [
    "Исходя из данной таблицы можно сказать, что доля невозвратов по кредитным средствам наибольшая в категории 'операции с автомобилем' - 9,4%. Доля невозвратов в категории 'операции с недвижимостью' минимальная и составляет 7,3%. Также одной из категоий с наибольшей долей невозвраток кредитных средств в срок является 'получение образования'.\\\n",
    "Гипотеза зависимости возврата кредита в срок от цели кредита **верна**."
   ]
  },
  {
   "cell_type": "markdown",
   "id": "7b607d2c",
   "metadata": {},
   "source": [
    "Дополнительно посмотрим распределние задолжностей клиентов по кредитам в зависимости от категории их заработка и цели кредита:"
   ]
  },
  {
   "cell_type": "code",
   "execution_count": 66,
   "id": "3a79ffd6",
   "metadata": {},
   "outputs": [
    {
     "data": {
      "text/html": [
       "<div>\n",
       "<style scoped>\n",
       "    .dataframe tbody tr th:only-of-type {\n",
       "        vertical-align: middle;\n",
       "    }\n",
       "\n",
       "    .dataframe tbody tr th {\n",
       "        vertical-align: top;\n",
       "    }\n",
       "\n",
       "    .dataframe thead tr th {\n",
       "        text-align: left;\n",
       "    }\n",
       "\n",
       "    .dataframe thead tr:last-of-type th {\n",
       "        text-align: right;\n",
       "    }\n",
       "</style>\n",
       "<table border=\"1\" class=\"dataframe\">\n",
       "  <thead>\n",
       "    <tr>\n",
       "      <th></th>\n",
       "      <th colspan=\"4\" halign=\"left\">ratio</th>\n",
       "    </tr>\n",
       "    <tr>\n",
       "      <th></th>\n",
       "      <th colspan=\"4\" halign=\"left\">debt</th>\n",
       "    </tr>\n",
       "    <tr>\n",
       "      <th>purpose_category</th>\n",
       "      <th>операции с автомобилем</th>\n",
       "      <th>операции с недвижимостью</th>\n",
       "      <th>получение образования</th>\n",
       "      <th>проведение свадьбы</th>\n",
       "    </tr>\n",
       "    <tr>\n",
       "      <th>total_income_category</th>\n",
       "      <th></th>\n",
       "      <th></th>\n",
       "      <th></th>\n",
       "      <th></th>\n",
       "    </tr>\n",
       "  </thead>\n",
       "  <tbody>\n",
       "    <tr>\n",
       "      <th>A</th>\n",
       "      <td>0.0%</td>\n",
       "      <td>5.9%</td>\n",
       "      <td>25.0%</td>\n",
       "      <td>0.0%</td>\n",
       "    </tr>\n",
       "    <tr>\n",
       "      <th>B</th>\n",
       "      <td>8.3%</td>\n",
       "      <td>6.6%</td>\n",
       "      <td>7.6%</td>\n",
       "      <td>5.5%</td>\n",
       "    </tr>\n",
       "    <tr>\n",
       "      <th>C</th>\n",
       "      <td>9.6%</td>\n",
       "      <td>7.5%</td>\n",
       "      <td>9.9%</td>\n",
       "      <td>8.7%</td>\n",
       "    </tr>\n",
       "    <tr>\n",
       "      <th>D</th>\n",
       "      <td>13.9%</td>\n",
       "      <td>3.6%</td>\n",
       "      <td>2.7%</td>\n",
       "      <td>8.8%</td>\n",
       "    </tr>\n",
       "    <tr>\n",
       "      <th>E</th>\n",
       "      <td>0.0%</td>\n",
       "      <td>18.2%</td>\n",
       "      <td>0.0%</td>\n",
       "      <td>0.0%</td>\n",
       "    </tr>\n",
       "  </tbody>\n",
       "</table>\n",
       "</div>"
      ],
      "text/plain": [
       "                                       ratio                           \\\n",
       "                                        debt                            \n",
       "purpose_category      операции с автомобилем операции с недвижимостью   \n",
       "total_income_category                                                   \n",
       "A                                       0.0%                     5.9%   \n",
       "B                                       8.3%                     6.6%   \n",
       "C                                       9.6%                     7.5%   \n",
       "D                                      13.9%                     3.6%   \n",
       "E                                       0.0%                    18.2%   \n",
       "\n",
       "                                                                \n",
       "                                                                \n",
       "purpose_category      получение образования проведение свадьбы  \n",
       "total_income_category                                           \n",
       "A                                     25.0%               0.0%  \n",
       "B                                      7.6%               5.5%  \n",
       "C                                      9.9%               8.7%  \n",
       "D                                      2.7%               8.8%  \n",
       "E                                      0.0%               0.0%  "
      ]
     },
     "execution_count": 66,
     "metadata": {},
     "output_type": "execute_result"
    }
   ],
   "source": [
    "# построение сводной таблицы по категории доходов клиентов и цели кредита\n",
    "df_purpose_income = df_clean.pivot_table(index=['total_income_category'],\n",
    "                                         columns = ['purpose_category'], \n",
    "                                         values=['debt'],\n",
    "                                         aggfunc=['mean']) \\\n",
    "                            .rename(columns={'mean':'ratio'}) \\\n",
    "                            .applymap('{:.1%}'.format)\n",
    "# полученная сводная таблица\n",
    "df_purpose_income"
   ]
  },
  {
   "cell_type": "markdown",
   "id": "0f2cb2b3",
   "metadata": {},
   "source": [
    "Как видно из представленной сводной таблицы категория клиентов 'D' чаще всех иммеет задолженности по кредитам на автомобили. Категория 'А' в силу заработка может позволить себе покупку машины без кредита, а категория 'E' вообще не берет кредитов на автомобиль.\n",
    "\n",
    "С недвижимостью немного другая ситуация: больше всего имеют задолженности по операциям с недвижимостью клиенты с низким заработком - категория 'E'. \n",
    "\n",
    "В силу малой выборки, по цели кредита 'образование' можно не учитывать 25% в категории клиентов 'А'. При этом в категории 'C' клиенты больше всех имеют задолности в данной категории.\n",
    "\n",
    "Кредит на свадьбу чаще всего берет именно категория клиентов 'C' и 'D', поэтому процент клиентов с задолженностью выше."
   ]
  },
  {
   "cell_type": "markdown",
   "id": "e6ff7b1c",
   "metadata": {},
   "source": [
    "## Итоги исследования"
   ]
  },
  {
   "cell_type": "markdown",
   "id": "8c9b5481",
   "metadata": {},
   "source": [
    "В процессе проекта было проведено исследование влияния семейного положения и количества детей клиента на факт погашения кредита в срок.\n",
    "\n",
    "Были проверены четыре гипотезы и сделаны следующие выводы:\n",
    "\n",
    "**1) Зависимость между количеством детей и возвратом кредита в срок есть.** \n",
    "\n",
    "Первая гипотеза подтвердилась. С увеличением количества детей в семье доля клиентов имеющих факт задолжности по возврату денежных средств по кредиту возрастает в среднем на 2 %. \n",
    "\n",
    "**2) Зависимость между семейным положением и возвратом кредита в срок также наблюдается.** \n",
    "\n",
    "Доля невозвратов по кредитам больше у клиентов находящихся либо в гражданском браке, либо - не женатых/не замужем. Их доля выше в среднем на 2%, чем у женатых или находящихся в разводе. \\\n",
    "Наименьшая доля невозвратов по кредитным денежным средствам у вдовцов/вдов - 6,6%.\n",
    "Данная гипотеза также подтвердилась. \n",
    "\n",
    "**3) Наблюдается зависимость между уровнем дохода и возвратом кредита в срок.** \n",
    "\n",
    "Доля клиентов имеющих задолжности по кредитным денежным средствам в категории \"средний класс\" - категория 'C', - одная из самых больших - 8,5 %, больше только у клиентов с категорией 'Е' - 9,1%, но их доля в данной выборке очень маленькая, для более четкого и детального анализа необходимо увелить размер выборки. \\\n",
    "С повышением уровня категории доля заявок с клиентами, которые имели задолжность по возврату кредитных денежных средств уменьшается на 1,5% (категория 'B'). Анализировать корректность доли в категории 'А' не представляется возможным в силу опять же маленькой выборки. \n",
    "\n",
    "Гипотеза верна: средний класс - большая прослойка общества, кредитных заявок больше, следовательно больше и клиентов с задолженностями.\n",
    "\n",
    "**4) Разные цели кредита влияют на его возврат в срок.** \n",
    "\n",
    "Доля невозвратов по кредитным средствам наибольшая в категории 'операции с автомобилем' - 9,4%. Доля невозвратов в категории 'операции с недвижимостью' минимальная и составляет 7,3%. Также одной из категоий с наибольшей долей невозвраток кредитных средств в срок является 'получение образования'.\\\n",
    "В основном завки на операции с автомобилем и на получение образования оставляет средний класс (категория 'C'), доля задолженностей в этих операциях у этой категории клиентов наибольшая. \n",
    "\n",
    "Можно считать, что гипотеза зависимости возврата кредита в срок от цели кредита также верна."
   ]
  }
 ],
 "metadata": {
  "ExecuteTimeLog": [
   {
    "duration": 430,
    "start_time": "2022-05-02T10:28:18.458Z"
   },
   {
    "duration": 83,
    "start_time": "2022-05-02T10:28:18.890Z"
   },
   {
    "duration": 20,
    "start_time": "2022-05-02T10:28:18.975Z"
   },
   {
    "duration": 36,
    "start_time": "2022-05-02T10:28:18.997Z"
   },
   {
    "duration": 11,
    "start_time": "2022-05-02T10:28:19.036Z"
   },
   {
    "duration": 19,
    "start_time": "2022-05-02T10:28:19.049Z"
   },
   {
    "duration": 10,
    "start_time": "2022-05-02T10:28:19.070Z"
   },
   {
    "duration": 12,
    "start_time": "2022-05-02T10:28:19.082Z"
   },
   {
    "duration": 20,
    "start_time": "2022-05-02T10:28:19.096Z"
   },
   {
    "duration": 19,
    "start_time": "2022-05-02T10:28:19.119Z"
   },
   {
    "duration": 18,
    "start_time": "2022-05-02T10:28:19.140Z"
   },
   {
    "duration": 16,
    "start_time": "2022-05-02T10:28:19.160Z"
   },
   {
    "duration": 14,
    "start_time": "2022-05-02T10:28:19.178Z"
   },
   {
    "duration": 13,
    "start_time": "2022-05-02T10:28:19.226Z"
   },
   {
    "duration": 21,
    "start_time": "2022-05-02T10:28:19.241Z"
   },
   {
    "duration": 7,
    "start_time": "2022-05-02T10:28:19.264Z"
   },
   {
    "duration": 13,
    "start_time": "2022-05-02T10:28:19.274Z"
   },
   {
    "duration": 41,
    "start_time": "2022-05-02T10:28:19.289Z"
   },
   {
    "duration": 10,
    "start_time": "2022-05-02T10:28:19.332Z"
   },
   {
    "duration": 6,
    "start_time": "2022-05-02T10:28:19.343Z"
   },
   {
    "duration": 17,
    "start_time": "2022-05-02T10:28:19.351Z"
   },
   {
    "duration": 6,
    "start_time": "2022-05-02T10:28:19.370Z"
   },
   {
    "duration": 51,
    "start_time": "2022-05-02T10:28:19.378Z"
   },
   {
    "duration": 12,
    "start_time": "2022-05-02T10:28:19.431Z"
   },
   {
    "duration": 11,
    "start_time": "2022-05-02T10:28:19.445Z"
   },
   {
    "duration": 11,
    "start_time": "2022-05-02T10:28:24.464Z"
   },
   {
    "duration": 34,
    "start_time": "2022-05-02T10:28:38.067Z"
   },
   {
    "duration": 30,
    "start_time": "2022-05-02T10:28:49.831Z"
   },
   {
    "duration": 13,
    "start_time": "2022-05-02T10:29:14.232Z"
   },
   {
    "duration": 6,
    "start_time": "2022-05-02T10:29:30.270Z"
   },
   {
    "duration": 13,
    "start_time": "2022-05-02T10:29:44.120Z"
   },
   {
    "duration": 2,
    "start_time": "2022-05-02T10:30:32.865Z"
   },
   {
    "duration": 65,
    "start_time": "2022-05-02T10:30:32.869Z"
   },
   {
    "duration": 13,
    "start_time": "2022-05-02T10:30:32.936Z"
   },
   {
    "duration": 21,
    "start_time": "2022-05-02T10:30:32.951Z"
   },
   {
    "duration": 10,
    "start_time": "2022-05-02T10:30:32.973Z"
   },
   {
    "duration": 11,
    "start_time": "2022-05-02T10:30:32.985Z"
   },
   {
    "duration": 5,
    "start_time": "2022-05-02T10:30:32.997Z"
   },
   {
    "duration": 25,
    "start_time": "2022-05-02T10:30:33.003Z"
   },
   {
    "duration": 13,
    "start_time": "2022-05-02T10:30:33.031Z"
   },
   {
    "duration": 9,
    "start_time": "2022-05-02T10:30:33.046Z"
   },
   {
    "duration": 11,
    "start_time": "2022-05-02T10:30:33.057Z"
   },
   {
    "duration": 13,
    "start_time": "2022-05-02T10:30:33.069Z"
   },
   {
    "duration": 39,
    "start_time": "2022-05-02T10:30:33.084Z"
   },
   {
    "duration": 7,
    "start_time": "2022-05-02T10:30:33.125Z"
   },
   {
    "duration": 19,
    "start_time": "2022-05-02T10:30:33.133Z"
   },
   {
    "duration": 8,
    "start_time": "2022-05-02T10:30:33.154Z"
   },
   {
    "duration": 14,
    "start_time": "2022-05-02T10:30:33.164Z"
   },
   {
    "duration": 45,
    "start_time": "2022-05-02T10:30:33.179Z"
   },
   {
    "duration": 6,
    "start_time": "2022-05-02T10:30:33.226Z"
   },
   {
    "duration": 9,
    "start_time": "2022-05-02T10:30:33.234Z"
   },
   {
    "duration": 21,
    "start_time": "2022-05-02T10:30:33.244Z"
   },
   {
    "duration": 6,
    "start_time": "2022-05-02T10:30:33.267Z"
   },
   {
    "duration": 16,
    "start_time": "2022-05-02T10:30:33.274Z"
   },
   {
    "duration": 31,
    "start_time": "2022-05-02T10:30:33.293Z"
   },
   {
    "duration": 12,
    "start_time": "2022-05-02T10:30:33.325Z"
   },
   {
    "duration": 10,
    "start_time": "2022-05-02T10:30:33.338Z"
   },
   {
    "duration": 7,
    "start_time": "2022-05-02T10:30:33.349Z"
   },
   {
    "duration": 16,
    "start_time": "2022-05-02T10:30:33.357Z"
   },
   {
    "duration": 4,
    "start_time": "2022-05-02T10:30:33.375Z"
   },
   {
    "duration": 16,
    "start_time": "2022-05-02T10:30:33.380Z"
   },
   {
    "duration": 16,
    "start_time": "2022-05-02T10:30:37.592Z"
   }
  ],
  "kernelspec": {
   "display_name": "Python 3 (ipykernel)",
   "language": "python",
   "name": "python3"
  },
  "language_info": {
   "codemirror_mode": {
    "name": "ipython",
    "version": 3
   },
   "file_extension": ".py",
   "mimetype": "text/x-python",
   "name": "python",
   "nbconvert_exporter": "python",
   "pygments_lexer": "ipython3",
   "version": "3.9.7"
  },
  "toc": {
   "base_numbering": 1,
   "nav_menu": {},
   "number_sections": true,
   "sideBar": true,
   "skip_h1_title": true,
   "title_cell": "Исследование надежности заемщиков",
   "title_sidebar": "Contents",
   "toc_cell": true,
   "toc_position": {
    "height": "calc(100% - 180px)",
    "left": "10px",
    "top": "150px",
    "width": "248px"
   },
   "toc_section_display": true,
   "toc_window_display": false
  }
 },
 "nbformat": 4,
 "nbformat_minor": 5
}
